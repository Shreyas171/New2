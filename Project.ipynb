{
 "cells": [
  {
   "cell_type": "code",
   "execution_count": null,
   "id": "aaf1cfc5-c2f2-4326-ac3e-621c216289aa",
   "metadata": {},
   "outputs": [],
   "source": []
  },
  {
   "cell_type": "code",
   "execution_count": null,
   "id": "fe15e845-a4df-47ae-94ec-3cad977e7fec",
   "metadata": {},
   "outputs": [],
   "source": [
    "Load insurance file bulid a good linear regressins \n",
    "Data files contains data for differnet weights and other  detail and how much they will be charged for their for their insurance\n"
   ]
  },
  {
   "cell_type": "code",
   "execution_count": null,
   "id": "50f350e8-c16a-4d0d-9525-53283bef9257",
   "metadata": {},
   "outputs": [],
   "source": [
    "1. Loadthe data set into dataframe\n",
    "2. Find null values and drop the if it is there\n",
    "3. Do one _hot encoding for categoricoreal feactures\n",
    "4. clean data with outlier IQR\n",
    "5. split data into X(independent features) and Y(dependent values)\n",
    "6. Bulid a simple linear Regressions model and print the residual plot and R2 score sizre 20% test data\n",
    "7. Find variance inflaction factor and build a new model and note the R2 score and print summary\n",
    "8. Do ridge and lasso regression and print R2 score for all models\n",
    "                                                  "
   ]
  },
  {
   "cell_type": "code",
   "execution_count": null,
   "id": "d9319d0a-e1fe-45c8-a284-c51015e45988",
   "metadata": {},
   "outputs": [],
   "source": []
  },
  {
   "cell_type": "code",
   "execution_count": null,
   "id": "cdfef401-3f2c-4689-919a-875d4b836b8e",
   "metadata": {},
   "outputs": [],
   "source": []
  },
  {
   "cell_type": "code",
   "execution_count": null,
   "id": "57086df7-8033-4d6d-94f3-066bcac550da",
   "metadata": {},
   "outputs": [],
   "source": []
  },
  {
   "cell_type": "code",
   "execution_count": 10,
   "id": "cde74358-5528-4fbf-8112-3e60320db9b7",
   "metadata": {},
   "outputs": [],
   "source": [
    "import numpy as np \n",
    "import pandas as pd \n",
    "import matplotlib.pyplot as plt\n",
    "import seaborn as sns \n",
    "from sklearn .model_selection import train_test_split\n",
    "from statsmodels.api import add_constant, OLS"
   ]
  },
  {
   "cell_type": "code",
   "execution_count": 14,
   "id": "ce56d80c-a073-41d3-aeef-37f5a64e026f",
   "metadata": {},
   "outputs": [
    {
     "data": {
      "text/html": [
       "<div>\n",
       "<style scoped>\n",
       "    .dataframe tbody tr th:only-of-type {\n",
       "        vertical-align: middle;\n",
       "    }\n",
       "\n",
       "    .dataframe tbody tr th {\n",
       "        vertical-align: top;\n",
       "    }\n",
       "\n",
       "    .dataframe thead th {\n",
       "        text-align: right;\n",
       "    }\n",
       "</style>\n",
       "<table border=\"1\" class=\"dataframe\">\n",
       "  <thead>\n",
       "    <tr style=\"text-align: right;\">\n",
       "      <th></th>\n",
       "      <th>age</th>\n",
       "      <th>sex</th>\n",
       "      <th>bmi</th>\n",
       "      <th>children</th>\n",
       "      <th>smoker</th>\n",
       "      <th>region</th>\n",
       "      <th>charges</th>\n",
       "    </tr>\n",
       "  </thead>\n",
       "  <tbody>\n",
       "    <tr>\n",
       "      <th>0</th>\n",
       "      <td>19</td>\n",
       "      <td>female</td>\n",
       "      <td>27.900</td>\n",
       "      <td>0</td>\n",
       "      <td>yes</td>\n",
       "      <td>southwest</td>\n",
       "      <td>16884.92400</td>\n",
       "    </tr>\n",
       "    <tr>\n",
       "      <th>1</th>\n",
       "      <td>18</td>\n",
       "      <td>male</td>\n",
       "      <td>33.770</td>\n",
       "      <td>1</td>\n",
       "      <td>no</td>\n",
       "      <td>southeast</td>\n",
       "      <td>1725.55230</td>\n",
       "    </tr>\n",
       "    <tr>\n",
       "      <th>2</th>\n",
       "      <td>28</td>\n",
       "      <td>male</td>\n",
       "      <td>33.000</td>\n",
       "      <td>3</td>\n",
       "      <td>no</td>\n",
       "      <td>southeast</td>\n",
       "      <td>4449.46200</td>\n",
       "    </tr>\n",
       "    <tr>\n",
       "      <th>3</th>\n",
       "      <td>33</td>\n",
       "      <td>male</td>\n",
       "      <td>22.705</td>\n",
       "      <td>0</td>\n",
       "      <td>no</td>\n",
       "      <td>northwest</td>\n",
       "      <td>21984.47061</td>\n",
       "    </tr>\n",
       "    <tr>\n",
       "      <th>4</th>\n",
       "      <td>32</td>\n",
       "      <td>male</td>\n",
       "      <td>28.880</td>\n",
       "      <td>0</td>\n",
       "      <td>no</td>\n",
       "      <td>northwest</td>\n",
       "      <td>3866.85520</td>\n",
       "    </tr>\n",
       "    <tr>\n",
       "      <th>...</th>\n",
       "      <td>...</td>\n",
       "      <td>...</td>\n",
       "      <td>...</td>\n",
       "      <td>...</td>\n",
       "      <td>...</td>\n",
       "      <td>...</td>\n",
       "      <td>...</td>\n",
       "    </tr>\n",
       "    <tr>\n",
       "      <th>1333</th>\n",
       "      <td>50</td>\n",
       "      <td>male</td>\n",
       "      <td>30.970</td>\n",
       "      <td>3</td>\n",
       "      <td>no</td>\n",
       "      <td>northwest</td>\n",
       "      <td>10600.54830</td>\n",
       "    </tr>\n",
       "    <tr>\n",
       "      <th>1334</th>\n",
       "      <td>18</td>\n",
       "      <td>female</td>\n",
       "      <td>31.920</td>\n",
       "      <td>0</td>\n",
       "      <td>no</td>\n",
       "      <td>northeast</td>\n",
       "      <td>2205.98080</td>\n",
       "    </tr>\n",
       "    <tr>\n",
       "      <th>1335</th>\n",
       "      <td>18</td>\n",
       "      <td>female</td>\n",
       "      <td>36.850</td>\n",
       "      <td>0</td>\n",
       "      <td>no</td>\n",
       "      <td>southeast</td>\n",
       "      <td>1629.83350</td>\n",
       "    </tr>\n",
       "    <tr>\n",
       "      <th>1336</th>\n",
       "      <td>21</td>\n",
       "      <td>female</td>\n",
       "      <td>25.800</td>\n",
       "      <td>0</td>\n",
       "      <td>no</td>\n",
       "      <td>southwest</td>\n",
       "      <td>2007.94500</td>\n",
       "    </tr>\n",
       "    <tr>\n",
       "      <th>1337</th>\n",
       "      <td>61</td>\n",
       "      <td>female</td>\n",
       "      <td>29.070</td>\n",
       "      <td>0</td>\n",
       "      <td>yes</td>\n",
       "      <td>northwest</td>\n",
       "      <td>29141.36030</td>\n",
       "    </tr>\n",
       "  </tbody>\n",
       "</table>\n",
       "<p>1338 rows × 7 columns</p>\n",
       "</div>"
      ],
      "text/plain": [
       "      age     sex     bmi  children smoker     region      charges\n",
       "0      19  female  27.900         0    yes  southwest  16884.92400\n",
       "1      18    male  33.770         1     no  southeast   1725.55230\n",
       "2      28    male  33.000         3     no  southeast   4449.46200\n",
       "3      33    male  22.705         0     no  northwest  21984.47061\n",
       "4      32    male  28.880         0     no  northwest   3866.85520\n",
       "...   ...     ...     ...       ...    ...        ...          ...\n",
       "1333   50    male  30.970         3     no  northwest  10600.54830\n",
       "1334   18  female  31.920         0     no  northeast   2205.98080\n",
       "1335   18  female  36.850         0     no  southeast   1629.83350\n",
       "1336   21  female  25.800         0     no  southwest   2007.94500\n",
       "1337   61  female  29.070         0    yes  northwest  29141.36030\n",
       "\n",
       "[1338 rows x 7 columns]"
      ]
     },
     "execution_count": 14,
     "metadata": {},
     "output_type": "execute_result"
    }
   ],
   "source": [
    "df=pd.read_csv('insurance.csv')\n",
    "df"
   ]
  },
  {
   "cell_type": "code",
   "execution_count": 15,
   "id": "4671672a-38e0-4e5c-8b42-b6215ff7a2ce",
   "metadata": {},
   "outputs": [
    {
     "data": {
      "text/html": [
       "<div>\n",
       "<style scoped>\n",
       "    .dataframe tbody tr th:only-of-type {\n",
       "        vertical-align: middle;\n",
       "    }\n",
       "\n",
       "    .dataframe tbody tr th {\n",
       "        vertical-align: top;\n",
       "    }\n",
       "\n",
       "    .dataframe thead th {\n",
       "        text-align: right;\n",
       "    }\n",
       "</style>\n",
       "<table border=\"1\" class=\"dataframe\">\n",
       "  <thead>\n",
       "    <tr style=\"text-align: right;\">\n",
       "      <th></th>\n",
       "      <th>age</th>\n",
       "      <th>sex</th>\n",
       "      <th>bmi</th>\n",
       "      <th>children</th>\n",
       "      <th>smoker</th>\n",
       "      <th>region</th>\n",
       "      <th>charges</th>\n",
       "    </tr>\n",
       "  </thead>\n",
       "  <tbody>\n",
       "    <tr>\n",
       "      <th>0</th>\n",
       "      <td>19</td>\n",
       "      <td>female</td>\n",
       "      <td>27.900</td>\n",
       "      <td>0</td>\n",
       "      <td>yes</td>\n",
       "      <td>southwest</td>\n",
       "      <td>16884.92400</td>\n",
       "    </tr>\n",
       "    <tr>\n",
       "      <th>1</th>\n",
       "      <td>18</td>\n",
       "      <td>male</td>\n",
       "      <td>33.770</td>\n",
       "      <td>1</td>\n",
       "      <td>no</td>\n",
       "      <td>southeast</td>\n",
       "      <td>1725.55230</td>\n",
       "    </tr>\n",
       "    <tr>\n",
       "      <th>2</th>\n",
       "      <td>28</td>\n",
       "      <td>male</td>\n",
       "      <td>33.000</td>\n",
       "      <td>3</td>\n",
       "      <td>no</td>\n",
       "      <td>southeast</td>\n",
       "      <td>4449.46200</td>\n",
       "    </tr>\n",
       "    <tr>\n",
       "      <th>3</th>\n",
       "      <td>33</td>\n",
       "      <td>male</td>\n",
       "      <td>22.705</td>\n",
       "      <td>0</td>\n",
       "      <td>no</td>\n",
       "      <td>northwest</td>\n",
       "      <td>21984.47061</td>\n",
       "    </tr>\n",
       "    <tr>\n",
       "      <th>4</th>\n",
       "      <td>32</td>\n",
       "      <td>male</td>\n",
       "      <td>28.880</td>\n",
       "      <td>0</td>\n",
       "      <td>no</td>\n",
       "      <td>northwest</td>\n",
       "      <td>3866.85520</td>\n",
       "    </tr>\n",
       "    <tr>\n",
       "      <th>5</th>\n",
       "      <td>31</td>\n",
       "      <td>female</td>\n",
       "      <td>25.740</td>\n",
       "      <td>0</td>\n",
       "      <td>no</td>\n",
       "      <td>southeast</td>\n",
       "      <td>3756.62160</td>\n",
       "    </tr>\n",
       "    <tr>\n",
       "      <th>6</th>\n",
       "      <td>46</td>\n",
       "      <td>female</td>\n",
       "      <td>33.440</td>\n",
       "      <td>1</td>\n",
       "      <td>no</td>\n",
       "      <td>southeast</td>\n",
       "      <td>8240.58960</td>\n",
       "    </tr>\n",
       "    <tr>\n",
       "      <th>7</th>\n",
       "      <td>37</td>\n",
       "      <td>female</td>\n",
       "      <td>27.740</td>\n",
       "      <td>3</td>\n",
       "      <td>no</td>\n",
       "      <td>northwest</td>\n",
       "      <td>7281.50560</td>\n",
       "    </tr>\n",
       "    <tr>\n",
       "      <th>8</th>\n",
       "      <td>37</td>\n",
       "      <td>male</td>\n",
       "      <td>29.830</td>\n",
       "      <td>2</td>\n",
       "      <td>no</td>\n",
       "      <td>northeast</td>\n",
       "      <td>6406.41070</td>\n",
       "    </tr>\n",
       "    <tr>\n",
       "      <th>9</th>\n",
       "      <td>60</td>\n",
       "      <td>female</td>\n",
       "      <td>25.840</td>\n",
       "      <td>0</td>\n",
       "      <td>no</td>\n",
       "      <td>northwest</td>\n",
       "      <td>28923.13692</td>\n",
       "    </tr>\n",
       "  </tbody>\n",
       "</table>\n",
       "</div>"
      ],
      "text/plain": [
       "   age     sex     bmi  children smoker     region      charges\n",
       "0   19  female  27.900         0    yes  southwest  16884.92400\n",
       "1   18    male  33.770         1     no  southeast   1725.55230\n",
       "2   28    male  33.000         3     no  southeast   4449.46200\n",
       "3   33    male  22.705         0     no  northwest  21984.47061\n",
       "4   32    male  28.880         0     no  northwest   3866.85520\n",
       "5   31  female  25.740         0     no  southeast   3756.62160\n",
       "6   46  female  33.440         1     no  southeast   8240.58960\n",
       "7   37  female  27.740         3     no  northwest   7281.50560\n",
       "8   37    male  29.830         2     no  northeast   6406.41070\n",
       "9   60  female  25.840         0     no  northwest  28923.13692"
      ]
     },
     "execution_count": 15,
     "metadata": {},
     "output_type": "execute_result"
    }
   ],
   "source": [
    "df.head(10)"
   ]
  },
  {
   "cell_type": "code",
   "execution_count": 16,
   "id": "d972fa5b-8086-4a3b-a620-1edede9fb9b6",
   "metadata": {},
   "outputs": [
    {
     "data": {
      "text/html": [
       "<div>\n",
       "<style scoped>\n",
       "    .dataframe tbody tr th:only-of-type {\n",
       "        vertical-align: middle;\n",
       "    }\n",
       "\n",
       "    .dataframe tbody tr th {\n",
       "        vertical-align: top;\n",
       "    }\n",
       "\n",
       "    .dataframe thead th {\n",
       "        text-align: right;\n",
       "    }\n",
       "</style>\n",
       "<table border=\"1\" class=\"dataframe\">\n",
       "  <thead>\n",
       "    <tr style=\"text-align: right;\">\n",
       "      <th></th>\n",
       "      <th>age</th>\n",
       "      <th>bmi</th>\n",
       "      <th>children</th>\n",
       "      <th>charges</th>\n",
       "    </tr>\n",
       "  </thead>\n",
       "  <tbody>\n",
       "    <tr>\n",
       "      <th>count</th>\n",
       "      <td>1338.000000</td>\n",
       "      <td>1338.000000</td>\n",
       "      <td>1338.000000</td>\n",
       "      <td>1338.000000</td>\n",
       "    </tr>\n",
       "    <tr>\n",
       "      <th>mean</th>\n",
       "      <td>39.207025</td>\n",
       "      <td>30.663397</td>\n",
       "      <td>1.094918</td>\n",
       "      <td>13270.422265</td>\n",
       "    </tr>\n",
       "    <tr>\n",
       "      <th>std</th>\n",
       "      <td>14.049960</td>\n",
       "      <td>6.098187</td>\n",
       "      <td>1.205493</td>\n",
       "      <td>12110.011237</td>\n",
       "    </tr>\n",
       "    <tr>\n",
       "      <th>min</th>\n",
       "      <td>18.000000</td>\n",
       "      <td>15.960000</td>\n",
       "      <td>0.000000</td>\n",
       "      <td>1121.873900</td>\n",
       "    </tr>\n",
       "    <tr>\n",
       "      <th>25%</th>\n",
       "      <td>27.000000</td>\n",
       "      <td>26.296250</td>\n",
       "      <td>0.000000</td>\n",
       "      <td>4740.287150</td>\n",
       "    </tr>\n",
       "    <tr>\n",
       "      <th>50%</th>\n",
       "      <td>39.000000</td>\n",
       "      <td>30.400000</td>\n",
       "      <td>1.000000</td>\n",
       "      <td>9382.033000</td>\n",
       "    </tr>\n",
       "    <tr>\n",
       "      <th>75%</th>\n",
       "      <td>51.000000</td>\n",
       "      <td>34.693750</td>\n",
       "      <td>2.000000</td>\n",
       "      <td>16639.912515</td>\n",
       "    </tr>\n",
       "    <tr>\n",
       "      <th>max</th>\n",
       "      <td>64.000000</td>\n",
       "      <td>53.130000</td>\n",
       "      <td>5.000000</td>\n",
       "      <td>63770.428010</td>\n",
       "    </tr>\n",
       "  </tbody>\n",
       "</table>\n",
       "</div>"
      ],
      "text/plain": [
       "               age          bmi     children       charges\n",
       "count  1338.000000  1338.000000  1338.000000   1338.000000\n",
       "mean     39.207025    30.663397     1.094918  13270.422265\n",
       "std      14.049960     6.098187     1.205493  12110.011237\n",
       "min      18.000000    15.960000     0.000000   1121.873900\n",
       "25%      27.000000    26.296250     0.000000   4740.287150\n",
       "50%      39.000000    30.400000     1.000000   9382.033000\n",
       "75%      51.000000    34.693750     2.000000  16639.912515\n",
       "max      64.000000    53.130000     5.000000  63770.428010"
      ]
     },
     "execution_count": 16,
     "metadata": {},
     "output_type": "execute_result"
    }
   ],
   "source": [
    "df.describe()"
   ]
  },
  {
   "cell_type": "code",
   "execution_count": 17,
   "id": "3129eb9a-4e67-434a-b591-e0e852b0ddb7",
   "metadata": {},
   "outputs": [
    {
     "data": {
      "text/plain": [
       "age         0\n",
       "sex         0\n",
       "bmi         0\n",
       "children    0\n",
       "smoker      0\n",
       "region      0\n",
       "charges     0\n",
       "dtype: int64"
      ]
     },
     "execution_count": 17,
     "metadata": {},
     "output_type": "execute_result"
    }
   ],
   "source": [
    "df.isna().sum()#no.nissingvalues found "
   ]
  },
  {
   "cell_type": "code",
   "execution_count": 18,
   "id": "649a107d-0684-4fe8-a3cc-c63f1c418197",
   "metadata": {},
   "outputs": [],
   "source": [
    "#using seaborn print Box_polt of dependent variablefor outlier anlaysis "
   ]
  },
  {
   "cell_type": "code",
   "execution_count": 19,
   "id": "6e809f73-1898-4c09-a3f8-81d9e7567a6f",
   "metadata": {},
   "outputs": [
    {
     "name": "stdout",
     "output_type": "stream",
     "text": [
      "<class 'pandas.core.frame.DataFrame'>\n",
      "RangeIndex: 1338 entries, 0 to 1337\n",
      "Data columns (total 7 columns):\n",
      " #   Column    Non-Null Count  Dtype  \n",
      "---  ------    --------------  -----  \n",
      " 0   age       1338 non-null   int64  \n",
      " 1   sex       1338 non-null   object \n",
      " 2   bmi       1338 non-null   float64\n",
      " 3   children  1338 non-null   int64  \n",
      " 4   smoker    1338 non-null   object \n",
      " 5   region    1338 non-null   object \n",
      " 6   charges   1338 non-null   float64\n",
      "dtypes: float64(2), int64(2), object(3)\n",
      "memory usage: 73.3+ KB\n"
     ]
    }
   ],
   "source": [
    "df.info()"
   ]
  },
  {
   "cell_type": "code",
   "execution_count": 21,
   "id": "c5cb993d-98d2-43a2-9e32-608c3b3e229b",
   "metadata": {},
   "outputs": [
    {
     "data": {
      "text/plain": [
       "<Axes: >"
      ]
     },
     "execution_count": 21,
     "metadata": {},
     "output_type": "execute_result"
    },
    {
     "data": {
      "image/png": "[encoded data removed]",
      "text/plain": [
       "<Figure size 640x480 with 1 Axes>"
      ]
     },
     "metadata": {},
     "output_type": "display_data"
    }
   ],
   "source": [
    "new_df=df.copy() #copy your data to new ddataframeso what ever changes we will make don't \n",
    "#affect to original to original\n",
    "sns.boxplot(new_df['charges'])#depent variable"
   ]
  },
  {
   "cell_type": "code",
   "execution_count": 24,
   "id": "b9e96574-488d-4d02-a89e-7d8b4472c02a",
   "metadata": {},
   "outputs": [],
   "source": [
    "#outlier treatment using IQR method\n",
    "hp=sorted(new_df['charges'])\n",
    "q1,q3=np.percentile(hp,[25,75])\n",
    "lower_bound=q1-(1.5*(q3-q1))\n",
    "upper_biund=q3+(1.5*(q3-q1))\n",
    "below=new_df['charges']>lower_bound\n",
    "above=new_df['charges']<upper_biund\n",
    "new_df=new_df[below&above]"
   ]
  },
  {
   "cell_type": "code",
   "execution_count": 25,
   "id": "4e9bd611-e30e-4af2-962d-c71cb948e12a",
   "metadata": {},
   "outputs": [
    {
     "data": {
      "text/plain": [
       "(1199, 7)"
      ]
     },
     "execution_count": 25,
     "metadata": {},
     "output_type": "execute_result"
    }
   ],
   "source": [
    "new_df.shape"
   ]
  },
  {
   "cell_type": "code",
   "execution_count": 26,
   "id": "31387a2e-aa09-44af-9acb-25ed3447d146",
   "metadata": {},
   "outputs": [
    {
     "data": {
      "text/html": [
       "<div>\n",
       "<style scoped>\n",
       "    .dataframe tbody tr th:only-of-type {\n",
       "        vertical-align: middle;\n",
       "    }\n",
       "\n",
       "    .dataframe tbody tr th {\n",
       "        vertical-align: top;\n",
       "    }\n",
       "\n",
       "    .dataframe thead th {\n",
       "        text-align: right;\n",
       "    }\n",
       "</style>\n",
       "<table border=\"1\" class=\"dataframe\">\n",
       "  <thead>\n",
       "    <tr style=\"text-align: right;\">\n",
       "      <th></th>\n",
       "      <th>age</th>\n",
       "      <th>bmi</th>\n",
       "      <th>children</th>\n",
       "      <th>charges</th>\n",
       "    </tr>\n",
       "  </thead>\n",
       "  <tbody>\n",
       "    <tr>\n",
       "      <th>count</th>\n",
       "      <td>1199.000000</td>\n",
       "      <td>1199.000000</td>\n",
       "      <td>1199.000000</td>\n",
       "      <td>1199.000000</td>\n",
       "    </tr>\n",
       "    <tr>\n",
       "      <th>mean</th>\n",
       "      <td>38.989992</td>\n",
       "      <td>30.095200</td>\n",
       "      <td>1.084237</td>\n",
       "      <td>9927.753402</td>\n",
       "    </tr>\n",
       "    <tr>\n",
       "      <th>std</th>\n",
       "      <td>14.068040</td>\n",
       "      <td>6.010551</td>\n",
       "      <td>1.214304</td>\n",
       "      <td>7241.158309</td>\n",
       "    </tr>\n",
       "    <tr>\n",
       "      <th>min</th>\n",
       "      <td>18.000000</td>\n",
       "      <td>15.960000</td>\n",
       "      <td>0.000000</td>\n",
       "      <td>1121.873900</td>\n",
       "    </tr>\n",
       "    <tr>\n",
       "      <th>25%</th>\n",
       "      <td>26.000000</td>\n",
       "      <td>25.800000</td>\n",
       "      <td>0.000000</td>\n",
       "      <td>4408.695900</td>\n",
       "    </tr>\n",
       "    <tr>\n",
       "      <th>50%</th>\n",
       "      <td>39.000000</td>\n",
       "      <td>29.735000</td>\n",
       "      <td>1.000000</td>\n",
       "      <td>8410.046850</td>\n",
       "    </tr>\n",
       "    <tr>\n",
       "      <th>75%</th>\n",
       "      <td>51.000000</td>\n",
       "      <td>33.820000</td>\n",
       "      <td>2.000000</td>\n",
       "      <td>12953.594600</td>\n",
       "    </tr>\n",
       "    <tr>\n",
       "      <th>max</th>\n",
       "      <td>64.000000</td>\n",
       "      <td>53.130000</td>\n",
       "      <td>5.000000</td>\n",
       "      <td>34472.841000</td>\n",
       "    </tr>\n",
       "  </tbody>\n",
       "</table>\n",
       "</div>"
      ],
      "text/plain": [
       "               age          bmi     children       charges\n",
       "count  1199.000000  1199.000000  1199.000000   1199.000000\n",
       "mean     38.989992    30.095200     1.084237   9927.753402\n",
       "std      14.068040     6.010551     1.214304   7241.158309\n",
       "min      18.000000    15.960000     0.000000   1121.873900\n",
       "25%      26.000000    25.800000     0.000000   4408.695900\n",
       "50%      39.000000    29.735000     1.000000   8410.046850\n",
       "75%      51.000000    33.820000     2.000000  12953.594600\n",
       "max      64.000000    53.130000     5.000000  34472.841000"
      ]
     },
     "execution_count": 26,
     "metadata": {},
     "output_type": "execute_result"
    }
   ],
   "source": [
    "new_df.describe()# AS WE can see that in \"charges cloumns nax and min values is changes as per  outlier treatments\""
   ]
  },
  {
   "cell_type": "code",
   "execution_count": 30,
   "id": "1230432a-2f7e-415a-b4ba-31f4b80a6442",
   "metadata": {},
   "outputs": [
    {
     "name": "stderr",
     "output_type": "stream",
     "text": [
      "C:\\Users\\Admin\\AppData\\Local\\Temp\\ipykernel_1628\\2481178364.py:1: UserWarning: \n",
      "\n",
      "`distplot` is a deprecated function and will be removed in seaborn v0.14.0.\n",
      "\n",
      "Please adapt your code to use either `displot` (a figure-level function with\n",
      "similar flexibility) or `histplot` (an axes-level function for histograms).\n",
      "\n",
      "For a guide to updating your code to use the new functions, please see\n",
      "https://gist.github.com/mwaskom/de44147ed2974457ad6372750bbe5751\n",
      "\n",
      "  sns.distplot(new_df['charges'])#data distribution of dependent variable\n"
     ]
    },
    {
     "data": {
      "text/plain": [
       "<Axes: xlabel='charges', ylabel='Density'>"
      ]
     },
     "execution_count": 30,
     "metadata": {},
     "output_type": "execute_result"
    },
    {
     "data": {
      "image/png": "[encoded data removed]",
      "text/plain": [
       "<Figure size 640x480 with 1 Axes>"
      ]
     },
     "metadata": {},
     "output_type": "display_data"
    }
   ],
   "source": [
    "sns.distplot(new_df['charges'])#data distribution of dependent variable"
   ]
  },
  {
   "cell_type": "code",
   "execution_count": 32,
   "id": "f70854c6-adff-46d8-b51a-ef9a0fd3d866",
   "metadata": {},
   "outputs": [
    {
     "data": {
      "text/html": [
       "<div>\n",
       "<style scoped>\n",
       "    .dataframe tbody tr th:only-of-type {\n",
       "        vertical-align: middle;\n",
       "    }\n",
       "\n",
       "    .dataframe tbody tr th {\n",
       "        vertical-align: top;\n",
       "    }\n",
       "\n",
       "    .dataframe thead th {\n",
       "        text-align: right;\n",
       "    }\n",
       "</style>\n",
       "<table border=\"1\" class=\"dataframe\">\n",
       "  <thead>\n",
       "    <tr style=\"text-align: right;\">\n",
       "      <th></th>\n",
       "      <th>count</th>\n",
       "      <th>mean</th>\n",
       "      <th>std</th>\n",
       "      <th>min</th>\n",
       "      <th>25%</th>\n",
       "      <th>50%</th>\n",
       "      <th>75%</th>\n",
       "      <th>max</th>\n",
       "    </tr>\n",
       "  </thead>\n",
       "  <tbody>\n",
       "    <tr>\n",
       "      <th>age</th>\n",
       "      <td>1199.0</td>\n",
       "      <td>38.989992</td>\n",
       "      <td>14.068040</td>\n",
       "      <td>18.0000</td>\n",
       "      <td>26.0000</td>\n",
       "      <td>39.00000</td>\n",
       "      <td>51.0000</td>\n",
       "      <td>64.000</td>\n",
       "    </tr>\n",
       "    <tr>\n",
       "      <th>bmi</th>\n",
       "      <td>1199.0</td>\n",
       "      <td>30.095200</td>\n",
       "      <td>6.010551</td>\n",
       "      <td>15.9600</td>\n",
       "      <td>25.8000</td>\n",
       "      <td>29.73500</td>\n",
       "      <td>33.8200</td>\n",
       "      <td>53.130</td>\n",
       "    </tr>\n",
       "    <tr>\n",
       "      <th>children</th>\n",
       "      <td>1199.0</td>\n",
       "      <td>1.084237</td>\n",
       "      <td>1.214304</td>\n",
       "      <td>0.0000</td>\n",
       "      <td>0.0000</td>\n",
       "      <td>1.00000</td>\n",
       "      <td>2.0000</td>\n",
       "      <td>5.000</td>\n",
       "    </tr>\n",
       "    <tr>\n",
       "      <th>charges</th>\n",
       "      <td>1199.0</td>\n",
       "      <td>9927.753402</td>\n",
       "      <td>7241.158309</td>\n",
       "      <td>1121.8739</td>\n",
       "      <td>4408.6959</td>\n",
       "      <td>8410.04685</td>\n",
       "      <td>12953.5946</td>\n",
       "      <td>34472.841</td>\n",
       "    </tr>\n",
       "  </tbody>\n",
       "</table>\n",
       "</div>"
      ],
      "text/plain": [
       "           count         mean          std        min        25%         50%  \\\n",
       "age       1199.0    38.989992    14.068040    18.0000    26.0000    39.00000   \n",
       "bmi       1199.0    30.095200     6.010551    15.9600    25.8000    29.73500   \n",
       "children  1199.0     1.084237     1.214304     0.0000     0.0000     1.00000   \n",
       "charges   1199.0  9927.753402  7241.158309  1121.8739  4408.6959  8410.04685   \n",
       "\n",
       "                 75%        max  \n",
       "age          51.0000     64.000  \n",
       "bmi          33.8200     53.130  \n",
       "children      2.0000      5.000  \n",
       "charges   12953.5946  34472.841  "
      ]
     },
     "execution_count": 32,
     "metadata": {},
     "output_type": "execute_result"
    }
   ],
   "source": [
    "new_df.describe().transpose() # transpose is print fromat horizontal to vertical vertical to horizontal"
   ]
  },
  {
   "cell_type": "code",
   "execution_count": 44,
   "id": "aa564511-d84a-475b-9417-caf9b28fb824",
   "metadata": {},
   "outputs": [
    {
     "data": {
      "text/plain": [
       "<Axes: >"
      ]
     },
     "execution_count": 44,
     "metadata": {},
     "output_type": "execute_result"
    },
    {
     "data": {
      "image/png": "[encoded data removed]",
      "text/plain": [
       "<Figure size 640x480 with 1 Axes>"
      ]
     },
     "metadata": {},
     "output_type": "display_data"
    }
   ],
   "source": [
    "sns.barplot(df )"
   ]
  },
  {
   "cell_type": "code",
   "execution_count": 40,
   "id": "a9121a57-e228-43e3-82cf-555a46f2a5bd",
   "metadata": {},
   "outputs": [
    {
     "data": {
      "text/plain": [
       "<Axes: >"
      ]
     },
     "execution_count": 40,
     "metadata": {},
     "output_type": "execute_result"
    },
    {
     "data": {
      "image/png": "[encoded data removed]",
      "text/plain": [
       "<Figure size 640x480 with 1 Axes>"
      ]
     },
     "metadata": {},
     "output_type": "display_data"
    }
   ],
   "source": [
    "sns.barplot(new_df)"
   ]
  },
  {
   "cell_type": "code",
   "execution_count": 45,
   "id": "dda1bb5b-fcc0-4727-af85-9b993410b82c",
   "metadata": {},
   "outputs": [
    {
     "name": "stdout",
     "output_type": "stream",
     "text": [
      "(1199, 12)\n"
     ]
    },
    {
     "data": {
      "text/html": [
       "<div>\n",
       "<style scoped>\n",
       "    .dataframe tbody tr th:only-of-type {\n",
       "        vertical-align: middle;\n",
       "    }\n",
       "\n",
       "    .dataframe tbody tr th {\n",
       "        vertical-align: top;\n",
       "    }\n",
       "\n",
       "    .dataframe thead th {\n",
       "        text-align: right;\n",
       "    }\n",
       "</style>\n",
       "<table border=\"1\" class=\"dataframe\">\n",
       "  <thead>\n",
       "    <tr style=\"text-align: right;\">\n",
       "      <th></th>\n",
       "      <th>age</th>\n",
       "      <th>bmi</th>\n",
       "      <th>children</th>\n",
       "      <th>charges</th>\n",
       "      <th>sex_female</th>\n",
       "      <th>sex_male</th>\n",
       "      <th>smoker_no</th>\n",
       "      <th>smoker_yes</th>\n",
       "      <th>region_northeast</th>\n",
       "      <th>region_northwest</th>\n",
       "      <th>region_southeast</th>\n",
       "      <th>region_southwest</th>\n",
       "    </tr>\n",
       "  </thead>\n",
       "  <tbody>\n",
       "    <tr>\n",
       "      <th>0</th>\n",
       "      <td>19</td>\n",
       "      <td>27.900</td>\n",
       "      <td>0</td>\n",
       "      <td>16884.92400</td>\n",
       "      <td>1</td>\n",
       "      <td>0</td>\n",
       "      <td>0</td>\n",
       "      <td>1</td>\n",
       "      <td>0</td>\n",
       "      <td>0</td>\n",
       "      <td>0</td>\n",
       "      <td>1</td>\n",
       "    </tr>\n",
       "    <tr>\n",
       "      <th>1</th>\n",
       "      <td>18</td>\n",
       "      <td>33.770</td>\n",
       "      <td>1</td>\n",
       "      <td>1725.55230</td>\n",
       "      <td>0</td>\n",
       "      <td>1</td>\n",
       "      <td>1</td>\n",
       "      <td>0</td>\n",
       "      <td>0</td>\n",
       "      <td>0</td>\n",
       "      <td>1</td>\n",
       "      <td>0</td>\n",
       "    </tr>\n",
       "    <tr>\n",
       "      <th>2</th>\n",
       "      <td>28</td>\n",
       "      <td>33.000</td>\n",
       "      <td>3</td>\n",
       "      <td>4449.46200</td>\n",
       "      <td>0</td>\n",
       "      <td>1</td>\n",
       "      <td>1</td>\n",
       "      <td>0</td>\n",
       "      <td>0</td>\n",
       "      <td>0</td>\n",
       "      <td>1</td>\n",
       "      <td>0</td>\n",
       "    </tr>\n",
       "    <tr>\n",
       "      <th>3</th>\n",
       "      <td>33</td>\n",
       "      <td>22.705</td>\n",
       "      <td>0</td>\n",
       "      <td>21984.47061</td>\n",
       "      <td>0</td>\n",
       "      <td>1</td>\n",
       "      <td>1</td>\n",
       "      <td>0</td>\n",
       "      <td>0</td>\n",
       "      <td>1</td>\n",
       "      <td>0</td>\n",
       "      <td>0</td>\n",
       "    </tr>\n",
       "    <tr>\n",
       "      <th>4</th>\n",
       "      <td>32</td>\n",
       "      <td>28.880</td>\n",
       "      <td>0</td>\n",
       "      <td>3866.85520</td>\n",
       "      <td>0</td>\n",
       "      <td>1</td>\n",
       "      <td>1</td>\n",
       "      <td>0</td>\n",
       "      <td>0</td>\n",
       "      <td>1</td>\n",
       "      <td>0</td>\n",
       "      <td>0</td>\n",
       "    </tr>\n",
       "  </tbody>\n",
       "</table>\n",
       "</div>"
      ],
      "text/plain": [
       "   age     bmi  children      charges  sex_female  sex_male  smoker_no  \\\n",
       "0   19  27.900         0  16884.92400           1         0          0   \n",
       "1   18  33.770         1   1725.55230           0         1          1   \n",
       "2   28  33.000         3   4449.46200           0         1          1   \n",
       "3   33  22.705         0  21984.47061           0         1          1   \n",
       "4   32  28.880         0   3866.85520           0         1          1   \n",
       "\n",
       "   smoker_yes  region_northeast  region_northwest  region_southeast  \\\n",
       "0           1                 0                 0                 0   \n",
       "1           0                 0                 0                 1   \n",
       "2           0                 0                 0                 1   \n",
       "3           0                 0                 1                 0   \n",
       "4           0                 0                 1                 0   \n",
       "\n",
       "   region_southwest  \n",
       "0                 1  \n",
       "1                 0  \n",
       "2                 0  \n",
       "3                 0  \n",
       "4                 0  "
      ]
     },
     "execution_count": 45,
     "metadata": {},
     "output_type": "execute_result"
    }
   ],
   "source": [
    "#dummy variable creation\n",
    "# Lets create dummy variables out of the categorial variables \n",
    "fullRaw2=pd.get_dummies (new_df).copy()\n",
    "print(fullRaw2.shape)\n",
    "fullRaw2.head()"
   ]
  },
  {
   "cell_type": "code",
   "execution_count": 47,
   "id": "d26186eb-6dc4-4a88-8dee-c67690ef1f5a",
   "metadata": {},
   "outputs": [
    {
     "data": {
      "text/plain": [
       "(1199, 12)"
      ]
     },
     "execution_count": 47,
     "metadata": {},
     "output_type": "execute_result"
    }
   ],
   "source": [
    "fullRaw2.shape"
   ]
  },
  {
   "cell_type": "code",
   "execution_count": 52,
   "id": "d72b2fd5-523d-49fe-8aee-1c1e29793511",
   "metadata": {},
   "outputs": [
    {
     "name": "stdout",
     "output_type": "stream",
     "text": [
      "(959, 11)\n",
      "(240, 11)\n",
      "(959,)\n",
      "(240,)\n"
     ]
    }
   ],
   "source": [
    "x=fullRaw2.drop (['charges'],axis=1).copy()\n",
    "y=fullRaw2['charges'].copy()\n",
    "x_train,x_test,y_train,y_test=train_test_split(x,y,test_size=0.20,random_state=100)\n",
    "print(x_train.shape)\n",
    "print(x_test.shape)\n",
    "print(y_train.shape)\n",
    "print(y_test.shape)"
   ]
  },
  {
   "cell_type": "code",
   "execution_count": 54,
   "id": "19cf3633-912d-478e-946f-d0b97eeb1073",
   "metadata": {},
   "outputs": [],
   "source": [
    "#IMPORTING SKLEARN LIBRARY AND CALL LINEAR REGRESSION THEN FIT ON TRAIN DATA\n",
    "from sklearn.linear_model import LinearRegression"
   ]
  },
  {
   "cell_type": "code",
   "execution_count": 55,
   "id": "d766863d-1c47-4ca9-a772-6e8c8b64223d",
   "metadata": {},
   "outputs": [],
   "source": [
    "model=LinearRegression().fit(x_train,y_train)"
   ]
  },
  {
   "cell_type": "code",
   "execution_count": 56,
   "id": "d92d5dad-481a-4b1c-9dc3-5d5388af3877",
   "metadata": {},
   "outputs": [],
   "source": [
    "pred=model.predict(x_test)"
   ]
  },
  {
   "cell_type": "code",
   "execution_count": 57,
   "id": "761ae156-4a1f-4055-b3e0-248ca0bf7220",
   "metadata": {},
   "outputs": [
    {
     "data": {
      "text/plain": [
       "0.6192966378869834"
      ]
     },
     "execution_count": 57,
     "metadata": {},
     "output_type": "execute_result"
    }
   ],
   "source": [
    "score1=model.score(x_test,y_test)#co-efficient of determination (R-square)\n",
    "score1"
   ]
  },
  {
   "cell_type": "code",
   "execution_count": 58,
   "id": "7757edf3-2c16-4d4d-b754-ac75c24c8ed8",
   "metadata": {},
   "outputs": [
    {
     "data": {
      "text/plain": [
       "0.6009293704166185"
      ]
     },
     "execution_count": 58,
     "metadata": {},
     "output_type": "execute_result"
    }
   ],
   "source": [
    "#Adiusted RSquare\n",
    "1-(1-model.score(x_test,y_test))*(len(y_test)-1)/(len(y_test)-x_test.shape[1]-1)"
   ]
  },
  {
   "cell_type": "code",
   "execution_count": 60,
   "id": "3ead7d9b-a2e4-4a92-b194-ee5ce8e90d0a",
   "metadata": {},
   "outputs": [
    {
     "data": {
      "text/plain": [
       "Text(0, 0.5, 'residuals')"
      ]
     },
     "execution_count": 60,
     "metadata": {},
     "output_type": "execute_result"
    },
    {
     "data": {
      "image/png": "[encoded data removed]",
      "text/plain": [
       "<Figure size 1200x500 with 1 Axes>"
      ]
     },
     "metadata": {},
     "output_type": "display_data"
    }
   ],
   "source": [
    "fig,axes=plt.subplots(1,1,sharex=False,sharey=False)\n",
    "fig.suptitle('[Residual Plots]')\n",
    "fig.set_size_inches(12,5)\n",
    "axes.plot(model.predict(x_test),y_test-model.predict(x_test), 'bo')\n",
    "axes.axhline (y=0,color='k')\n",
    "axes.grid()\n",
    "axes.set_title('Linear')\n",
    "axes.set_xlabel('predicted values')\n",
    "axes.set_ylabel('residuals')"
   ]
  },
  {
   "cell_type": "code",
   "execution_count": 62,
   "id": "bd00d14d-0749-45bb-a67a-bca085efa72d",
   "metadata": {},
   "outputs": [
    {
     "name": "stderr",
     "output_type": "stream",
     "text": [
      "C:\\Users\\Admin\\AppData\\Local\\Temp\\ipykernel_1628\\3670027512.py:3: UserWarning: \n",
      "\n",
      "`distplot` is a deprecated function and will be removed in seaborn v0.14.0.\n",
      "\n",
      "Please adapt your code to use either `displot` (a figure-level function with\n",
      "similar flexibility) or `histplot` (an axes-level function for histograms).\n",
      "\n",
      "For a guide to updating your code to use the new functions, please see\n",
      "https://gist.github.com/mwaskom/de44147ed2974457ad6372750bbe5751\n",
      "\n",
      "  sns.distplot(residuals_linear)\n"
     ]
    },
    {
     "data": {
      "text/plain": [
       "Text(0.5, 1.0, 'Linear')"
      ]
     },
     "execution_count": 62,
     "metadata": {},
     "output_type": "execute_result"
    },
    {
     "data": {
      "image/png": "[encoded data removed]",
      "text/plain": [
       "<Figure size 640x480 with 1 Axes>"
      ]
     },
     "metadata": {},
     "output_type": "display_data"
    }
   ],
   "source": [
    "import seaborn as sns \n",
    "residuals_linear=y_test-model.predict(x_test)\n",
    "sns.distplot(residuals_linear)\n",
    "plt.title('Linear')"
   ]
  },
  {
   "cell_type": "code",
   "execution_count": 64,
   "id": "9539a417-7c41-45d0-b556-a6531eaaa8f4",
   "metadata": {},
   "outputs": [
    {
     "data": {
      "text/plain": [
       "<Axes: title={'center': 'Model Coefficients'}>"
      ]
     },
     "execution_count": 64,
     "metadata": {},
     "output_type": "execute_result"
    },
    {
     "data": {
      "image/png": "[encoded data removed]",
      "text/plain": [
       "<Figure size 640x480 with 1 Axes>"
      ]
     },
     "metadata": {},
     "output_type": "display_data"
    }
   ],
   "source": [
    "#visualizing model coefficients\n",
    "predictors=x_train.columns\n",
    "coef=pd.Series(model.coef_,predictors).sort_values()\n",
    "coef.plot(kind=\"bar\",title=\"Model Coefficients\")"
   ]
  },
  {
   "cell_type": "code",
   "execution_count": 67,
   "id": "2b9d84f7-2a43-4204-a92e-5ae34e86efd8",
   "metadata": {},
   "outputs": [
    {
     "name": "stderr",
     "output_type": "stream",
     "text": [
      "C:\\Users\\Admin\\anaconda3\\lib\\site-packages\\statsmodels\\stats\\outliers_influence.py:195: RuntimeWarning: divide by zero encountered in double_scalars\n",
      "  vif = 1. / (1. - r_squared_i)\n"
     ]
    }
   ],
   "source": [
    "from statsmodels.stats.outliers_influence import variance_inflation_factor\n",
    "vif=pd.DataFrame()\n",
    "vif['VIF']=[variance_inflation_factor(x.values,i)for i in range(x.shape[1])]\n",
    "vif[\"features\"]=x.columns"
   ]
  },
  {
   "cell_type": "code",
   "execution_count": 68,
   "id": "f5c1c986-1df9-4624-9f34-55ed28d1ed8b",
   "metadata": {},
   "outputs": [
    {
     "data": {
      "text/plain": [
       "0     1.020381\n",
       "1     1.167918\n",
       "2     1.003027\n",
       "3          inf\n",
       "4          inf\n",
       "5          inf\n",
       "6          inf\n",
       "7          inf\n",
       "8          inf\n",
       "9          inf\n",
       "10         inf\n",
       "Name: VIF, dtype: float64"
      ]
     },
     "execution_count": 68,
     "metadata": {},
     "output_type": "execute_result"
    }
   ],
   "source": [
    "vif['VIF'] #if hte values is 10 or greater than 10 then its pronlem"
   ]
  },
  {
   "cell_type": "code",
   "execution_count": 82,
   "id": "cbd6098c-bc36-43ef-b696-062bec197d9f",
   "metadata": {},
   "outputs": [
    {
     "name": "stderr",
     "output_type": "stream",
     "text": [
      "C:\\Users\\Admin\\anaconda3\\lib\\site-packages\\statsmodels\\regression\\linear_model.py:1752: RuntimeWarning: divide by zero encountered in double_scalars\n",
      "  return 1 - self.ssr/self.centered_tss\n",
      "C:\\Users\\Admin\\anaconda3\\lib\\site-packages\\statsmodels\\stats\\outliers_influence.py:195: RuntimeWarning: divide by zero encountered in double_scalars\n",
      "  vif = 1. / (1. - r_squared_i)\n",
      "C:\\Users\\Admin\\anaconda3\\lib\\site-packages\\statsmodels\\regression\\linear_model.py:1752: RuntimeWarning: divide by zero encountered in double_scalars\n",
      "  return 1 - self.ssr/self.centered_tss\n",
      "C:\\Users\\Admin\\anaconda3\\lib\\site-packages\\statsmodels\\stats\\outliers_influence.py:195: RuntimeWarning: divide by zero encountered in double_scalars\n",
      "  vif = 1. / (1. - r_squared_i)\n",
      "C:\\Users\\Admin\\anaconda3\\lib\\site-packages\\statsmodels\\regression\\linear_model.py:1752: RuntimeWarning: divide by zero encountered in double_scalars\n",
      "  return 1 - self.ssr/self.centered_tss\n",
      "C:\\Users\\Admin\\anaconda3\\lib\\site-packages\\statsmodels\\stats\\outliers_influence.py:195: RuntimeWarning: divide by zero encountered in double_scalars\n",
      "  vif = 1. / (1. - r_squared_i)\n"
     ]
    },
    {
     "name": "stdout",
     "output_type": "stream",
     "text": [
      "1\n",
      "region_southwest\n",
      "2\n",
      "smoker_yes\n",
      "3\n",
      "sex_male\n",
      "4\n",
      "const\n",
      "5\n",
      "bmi\n",
      "6\n",
      "age\n"
     ]
    }
   ],
   "source": [
    "x=add_constant(x)\n",
    "tempMaxVIF=5\n",
    "maxVIF=5\n",
    "trainXCopy=x.copy()\n",
    "counter=1\n",
    "highVIFColumnsNames=[]\n",
    "while (tempMaxVIF >=maxVIF):\n",
    "    #create an empty temporary df to store VIF values \n",
    "    tempVIFDF=pd.DataFrame()\n",
    "    #calculate VIF using list comprehensions\n",
    "    tempVIFDF['VIF']=[variance_inflation_factor(trainXCopy.values,i)for i in range (trainXCopy.shape[1])]\n",
    "#create a new colunms 'coloumns name 'to store a columns again the VIF values rom the list omprehenshion \n",
    "    tempVIFDF[\"Column_Name\"]=trainXCopy.columns\n",
    "#Drop na rows from the df -If there is some calculations error resulting inNA's\n",
    "    tempVIFDF.dropna(inplace=True )\n",
    "#Sort the df based on VIF values , then pick the top most colunms nmaaaae (which has the highest VIF)\n",
    "    tempColumnName = tempVIFDF.sort_values (['VIF'])[-1:]['Column_Name'].values[0]\n",
    "    #store the max VIF value in  tempMAx VIF\n",
    "    tempMaxVIF=tempVIFDF.sort_values(['VIF'])[-1:][\"VIF\"].values[0]\n",
    "    if (tempMaxVIF >=maxVIF):#this condition will ensure that cloumns having VIF lower than 5 are NOT dropped \n",
    "        print(counter)\n",
    "        print(tempColumnName)\n",
    "        #remove the highest VIF valued \"column\" from traincopy .As the loop continues this step willkeel removing highestnVIF columns one \n",
    "        trainXCopy=trainXCopy.drop(tempColumnName,axis=1)\n",
    "        highVIFColumnsNames.append (tempColumnName)#here we are making list of deleting variables\n",
    "        counter=counter+1\n",
    "\n",
    "  # counter=counter+1\n"
   ]
  },
  {
   "cell_type": "code",
   "execution_count": 93,
   "id": "c8cec3b3-dfa5-4400-87ba-b0b6e4016957",
   "metadata": {},
   "outputs": [
    {
     "name": "stdout",
     "output_type": "stream",
     "text": [
      "['region_southwest', 'smoker_yes', 'sex_male', 'bmi', 'age']\n"
     ]
    },
    {
     "ename": "ValueError",
     "evalue": "list.remove(x): x not in list",
     "output_type": "error",
     "traceback": [
      "\u001b[1;31m---------------------------------------------------------------------------\u001b[0m",
      "\u001b[1;31mValueError\u001b[0m                                Traceback (most recent call last)",
      "Cell \u001b[1;32mIn[93], line 4\u001b[0m\n\u001b[0;32m      1\u001b[0m \u001b[38;5;66;03m#now we find out  that will coliniarity kick out the columns except const because we wull nees it in future \u001b[39;00m\n\u001b[0;32m      2\u001b[0m \u001b[38;5;66;03m#remove all those variables which have high VIF \u001b[39;00m\n\u001b[0;32m      3\u001b[0m \u001b[38;5;28mprint\u001b[39m (highVIFColumnsNames)\n\u001b[1;32m----> 4\u001b[0m \u001b[43mhighVIFColumnsNames\u001b[49m\u001b[38;5;241;43m.\u001b[39;49m\u001b[43mremove\u001b[49m\u001b[43m(\u001b[49m\u001b[38;5;124;43m'\u001b[39;49m\u001b[38;5;124;43mconst\u001b[39;49m\u001b[38;5;124;43m'\u001b[39;49m\u001b[43m)\u001b[49m\u001b[38;5;66;03m#we need toexclude 'const ' clounms from gettiong dropped /remove this is the intercer[t\u001b[39;00m\n\u001b[0;32m      5\u001b[0m \u001b[38;5;28mprint\u001b[39m(\u001b[38;5;28mlen\u001b[39m(highVIFColumnsNames))\n\u001b[0;32m      7\u001b[0m x_new \u001b[38;5;241m=\u001b[39mx\u001b[38;5;241m.\u001b[39mdrop(highVIFColumnsNames,axis\u001b[38;5;241m=\u001b[39m\u001b[38;5;241m1\u001b[39m)\n",
      "\u001b[1;31mValueError\u001b[0m: list.remove(x): x not in list"
     ]
    }
   ],
   "source": [
    "#now we find out  that will coliniarity kick out the columns except const because we wull nees it in future \n",
    "#remove all those variables which have high VIF \n",
    "print (highVIFColumnsNames)\n",
    "highVIFColumnsNames.remove('const')#we need toexclude 'const ' clounms from gettiong dropped /remove this is the intercer[t\n",
    "print(len(highVIFColumnsNames))\n",
    "\n",
    "x_new =x.drop(highVIFColumnsNames,axis=1)\n",
    "print(x.shape)\n"
   ]
  },
  {
   "cell_type": "code",
   "execution_count": 92,
   "id": "2a0f78dc-7a75-4950-9360-3a8da4319d42",
   "metadata": {},
   "outputs": [
    {
     "name": "stdout",
     "output_type": "stream",
     "text": [
      "(1199, 12)\n"
     ]
    }
   ],
   "source": [
    "x_new =x.drop(highVIFColumnsNames,axis=1)\n",
    "print(x.shape)"
   ]
  },
  {
   "cell_type": "code",
   "execution_count": 95,
   "id": "29d689d8-89ea-42d9-9b9d-f4cdd65cd87a",
   "metadata": {},
   "outputs": [
    {
     "data": {
      "text/html": [
       "<div>\n",
       "<style scoped>\n",
       "    .dataframe tbody tr th:only-of-type {\n",
       "        vertical-align: middle;\n",
       "    }\n",
       "\n",
       "    .dataframe tbody tr th {\n",
       "        vertical-align: top;\n",
       "    }\n",
       "\n",
       "    .dataframe thead th {\n",
       "        text-align: right;\n",
       "    }\n",
       "</style>\n",
       "<table border=\"1\" class=\"dataframe\">\n",
       "  <thead>\n",
       "    <tr style=\"text-align: right;\">\n",
       "      <th></th>\n",
       "      <th>const</th>\n",
       "      <th>children</th>\n",
       "      <th>sex_female</th>\n",
       "      <th>smoker_no</th>\n",
       "      <th>region_northeast</th>\n",
       "      <th>region_northwest</th>\n",
       "      <th>region_southeast</th>\n",
       "    </tr>\n",
       "  </thead>\n",
       "  <tbody>\n",
       "    <tr>\n",
       "      <th>0</th>\n",
       "      <td>1.0</td>\n",
       "      <td>0</td>\n",
       "      <td>1</td>\n",
       "      <td>0</td>\n",
       "      <td>0</td>\n",
       "      <td>0</td>\n",
       "      <td>0</td>\n",
       "    </tr>\n",
       "    <tr>\n",
       "      <th>1</th>\n",
       "      <td>1.0</td>\n",
       "      <td>1</td>\n",
       "      <td>0</td>\n",
       "      <td>1</td>\n",
       "      <td>0</td>\n",
       "      <td>0</td>\n",
       "      <td>1</td>\n",
       "    </tr>\n",
       "    <tr>\n",
       "      <th>2</th>\n",
       "      <td>1.0</td>\n",
       "      <td>3</td>\n",
       "      <td>0</td>\n",
       "      <td>1</td>\n",
       "      <td>0</td>\n",
       "      <td>0</td>\n",
       "      <td>1</td>\n",
       "    </tr>\n",
       "    <tr>\n",
       "      <th>3</th>\n",
       "      <td>1.0</td>\n",
       "      <td>0</td>\n",
       "      <td>0</td>\n",
       "      <td>1</td>\n",
       "      <td>0</td>\n",
       "      <td>1</td>\n",
       "      <td>0</td>\n",
       "    </tr>\n",
       "    <tr>\n",
       "      <th>4</th>\n",
       "      <td>1.0</td>\n",
       "      <td>0</td>\n",
       "      <td>0</td>\n",
       "      <td>1</td>\n",
       "      <td>0</td>\n",
       "      <td>1</td>\n",
       "      <td>0</td>\n",
       "    </tr>\n",
       "    <tr>\n",
       "      <th>...</th>\n",
       "      <td>...</td>\n",
       "      <td>...</td>\n",
       "      <td>...</td>\n",
       "      <td>...</td>\n",
       "      <td>...</td>\n",
       "      <td>...</td>\n",
       "      <td>...</td>\n",
       "    </tr>\n",
       "    <tr>\n",
       "      <th>1333</th>\n",
       "      <td>1.0</td>\n",
       "      <td>3</td>\n",
       "      <td>0</td>\n",
       "      <td>1</td>\n",
       "      <td>0</td>\n",
       "      <td>1</td>\n",
       "      <td>0</td>\n",
       "    </tr>\n",
       "    <tr>\n",
       "      <th>1334</th>\n",
       "      <td>1.0</td>\n",
       "      <td>0</td>\n",
       "      <td>1</td>\n",
       "      <td>1</td>\n",
       "      <td>1</td>\n",
       "      <td>0</td>\n",
       "      <td>0</td>\n",
       "    </tr>\n",
       "    <tr>\n",
       "      <th>1335</th>\n",
       "      <td>1.0</td>\n",
       "      <td>0</td>\n",
       "      <td>1</td>\n",
       "      <td>1</td>\n",
       "      <td>0</td>\n",
       "      <td>0</td>\n",
       "      <td>1</td>\n",
       "    </tr>\n",
       "    <tr>\n",
       "      <th>1336</th>\n",
       "      <td>1.0</td>\n",
       "      <td>0</td>\n",
       "      <td>1</td>\n",
       "      <td>1</td>\n",
       "      <td>0</td>\n",
       "      <td>0</td>\n",
       "      <td>0</td>\n",
       "    </tr>\n",
       "    <tr>\n",
       "      <th>1337</th>\n",
       "      <td>1.0</td>\n",
       "      <td>0</td>\n",
       "      <td>1</td>\n",
       "      <td>0</td>\n",
       "      <td>0</td>\n",
       "      <td>1</td>\n",
       "      <td>0</td>\n",
       "    </tr>\n",
       "  </tbody>\n",
       "</table>\n",
       "<p>1199 rows × 7 columns</p>\n",
       "</div>"
      ],
      "text/plain": [
       "      const  children  sex_female  smoker_no  region_northeast  \\\n",
       "0       1.0         0           1          0                 0   \n",
       "1       1.0         1           0          1                 0   \n",
       "2       1.0         3           0          1                 0   \n",
       "3       1.0         0           0          1                 0   \n",
       "4       1.0         0           0          1                 0   \n",
       "...     ...       ...         ...        ...               ...   \n",
       "1333    1.0         3           0          1                 0   \n",
       "1334    1.0         0           1          1                 1   \n",
       "1335    1.0         0           1          1                 0   \n",
       "1336    1.0         0           1          1                 0   \n",
       "1337    1.0         0           1          0                 0   \n",
       "\n",
       "      region_northwest  region_southeast  \n",
       "0                    0                 0  \n",
       "1                    0                 1  \n",
       "2                    0                 1  \n",
       "3                    1                 0  \n",
       "4                    1                 0  \n",
       "...                ...               ...  \n",
       "1333                 1                 0  \n",
       "1334                 0                 0  \n",
       "1335                 0                 1  \n",
       "1336                 0                 0  \n",
       "1337                 1                 0  \n",
       "\n",
       "[1199 rows x 7 columns]"
      ]
     },
     "execution_count": 95,
     "metadata": {},
     "output_type": "execute_result"
    }
   ],
   "source": [
    "x_new #after removing sone feactures our new idependent feactures are"
   ]
  },
  {
   "cell_type": "code",
   "execution_count": 96,
   "id": "8effeb68-e814-46e4-84b9-81c636be6fb3",
   "metadata": {},
   "outputs": [
    {
     "data": {
      "text/plain": [
       "<Axes: >"
      ]
     },
     "execution_count": 96,
     "metadata": {},
     "output_type": "execute_result"
    },
    {
     "data": {
      "image/png": "[encoded data removed]",
      "text/plain": [
       "<Figure size 640x480 with 1 Axes>"
      ]
     },
     "metadata": {},
     "output_type": "display_data"
    }
   ],
   "source": [
    "sns.barplot(x)"
   ]
  },
  {
   "cell_type": "raw",
   "id": "bfcb613d-9779-47de-aa70-fade1edfad6a",
   "metadata": {},
   "source": [
    "x_train2,x_test,y_train2,y_test2=train_test_split(x_new,y,test_size=0.20,random_state=10)\n",
    "m1Mode1Def=OLS(y_train2,x_train2) #(Dep_Var,Indep_Vars)#this is model definition\n",
    "m1Mode1Bulid=m1ModeDef.fit()#this is model building .fit ()creates the linear regressions equations "
   ]
  },
  {
   "cell_type": "code",
   "execution_count": 97,
   "id": "de9cbb06-01f0-4496-ba25-83e6227d7b30",
   "metadata": {},
   "outputs": [
    {
     "data": {
      "text/plain": [
       "<Axes: >"
      ]
     },
     "execution_count": 97,
     "metadata": {},
     "output_type": "execute_result"
    },
    {
     "data": {
      "image/png": "[encoded data removed]",
      "text/plain": [
       "<Figure size 640x480 with 1 Axes>"
      ]
     },
     "metadata": {},
     "output_type": "display_data"
    }
   ],
   "source": [
    "sns.barplot(x_new)"
   ]
  },
  {
   "cell_type": "code",
   "execution_count": 102,
   "id": "3b0f4364-8839-46e0-8d9e-c3e6779ed935",
   "metadata": {},
   "outputs": [
    {
     "data": {
      "text/html": [
       "<table class=\"simpletable\">\n",
       "<caption>OLS Regression Results</caption>\n",
       "<tr>\n",
       "  <th>Dep. Variable:</th>         <td>charges</td>     <th>  R-squared:         </th> <td>   0.403</td> \n",
       "</tr>\n",
       "<tr>\n",
       "  <th>Model:</th>                   <td>OLS</td>       <th>  Adj. R-squared:    </th> <td>   0.399</td> \n",
       "</tr>\n",
       "<tr>\n",
       "  <th>Method:</th>             <td>Least Squares</td>  <th>  F-statistic:       </th> <td>   107.2</td> \n",
       "</tr>\n",
       "<tr>\n",
       "  <th>Date:</th>             <td>Sun, 25 Aug 2024</td> <th>  Prob (F-statistic):</th> <td>3.90e-103</td>\n",
       "</tr>\n",
       "<tr>\n",
       "  <th>Time:</th>                 <td>14:39:08</td>     <th>  Log-Likelihood:    </th> <td> -9617.1</td> \n",
       "</tr>\n",
       "<tr>\n",
       "  <th>No. Observations:</th>      <td>   959</td>      <th>  AIC:               </th> <td>1.925e+04</td>\n",
       "</tr>\n",
       "<tr>\n",
       "  <th>Df Residuals:</th>          <td>   952</td>      <th>  BIC:               </th> <td>1.928e+04</td>\n",
       "</tr>\n",
       "<tr>\n",
       "  <th>Df Model:</th>              <td>     6</td>      <th>                     </th>     <td> </td>    \n",
       "</tr>\n",
       "<tr>\n",
       "  <th>Covariance Type:</th>      <td>nonrobust</td>    <th>                     </th>     <td> </td>    \n",
       "</tr>\n",
       "</table>\n",
       "<table class=\"simpletable\">\n",
       "<tr>\n",
       "          <td></td>            <th>coef</th>     <th>std err</th>      <th>t</th>      <th>P>|t|</th>  <th>[0.025</th>    <th>0.975]</th>  \n",
       "</tr>\n",
       "<tr>\n",
       "  <th>const</th>            <td> 2.098e+04</td> <td>  674.884</td> <td>   31.085</td> <td> 0.000</td> <td> 1.97e+04</td> <td> 2.23e+04</td>\n",
       "</tr>\n",
       "<tr>\n",
       "  <th>children</th>         <td>  534.3608</td> <td>  147.358</td> <td>    3.626</td> <td> 0.000</td> <td>  245.177</td> <td>  823.545</td>\n",
       "</tr>\n",
       "<tr>\n",
       "  <th>sex_female</th>       <td>  205.3767</td> <td>  356.166</td> <td>    0.577</td> <td> 0.564</td> <td> -493.584</td> <td>  904.338</td>\n",
       "</tr>\n",
       "<tr>\n",
       "  <th>smoker_no</th>        <td>-1.394e+04</td> <td>  563.985</td> <td>  -24.720</td> <td> 0.000</td> <td> -1.5e+04</td> <td>-1.28e+04</td>\n",
       "</tr>\n",
       "<tr>\n",
       "  <th>region_northeast</th> <td> 1289.8509</td> <td>  511.599</td> <td>    2.521</td> <td> 0.012</td> <td>  285.859</td> <td> 2293.843</td>\n",
       "</tr>\n",
       "<tr>\n",
       "  <th>region_northwest</th> <td>  885.8797</td> <td>  506.157</td> <td>    1.750</td> <td> 0.080</td> <td> -107.433</td> <td> 1879.193</td>\n",
       "</tr>\n",
       "<tr>\n",
       "  <th>region_southeast</th> <td>   93.0997</td> <td>  506.694</td> <td>    0.184</td> <td> 0.854</td> <td> -901.267</td> <td> 1087.466</td>\n",
       "</tr>\n",
       "</table>\n",
       "<table class=\"simpletable\">\n",
       "<tr>\n",
       "  <th>Omnibus:</th>       <td>235.116</td> <th>  Durbin-Watson:     </th> <td>   1.994</td> \n",
       "</tr>\n",
       "<tr>\n",
       "  <th>Prob(Omnibus):</th> <td> 0.000</td>  <th>  Jarque-Bera (JB):  </th> <td> 502.871</td> \n",
       "</tr>\n",
       "<tr>\n",
       "  <th>Skew:</th>          <td> 1.364</td>  <th>  Prob(JB):          </th> <td>6.35e-110</td>\n",
       "</tr>\n",
       "<tr>\n",
       "  <th>Kurtosis:</th>      <td> 5.267</td>  <th>  Cond. No.          </th> <td>    10.5</td> \n",
       "</tr>\n",
       "</table><br/><br/>Notes:<br/>[1] Standard Errors assume that the covariance matrix of the errors is correctly specified."
      ],
      "text/plain": [
       "<class 'statsmodels.iolib.summary.Summary'>\n",
       "\"\"\"\n",
       "                            OLS Regression Results                            \n",
       "==============================================================================\n",
       "Dep. Variable:                charges   R-squared:                       0.403\n",
       "Model:                            OLS   Adj. R-squared:                  0.399\n",
       "Method:                 Least Squares   F-statistic:                     107.2\n",
       "Date:                Sun, 25 Aug 2024   Prob (F-statistic):          3.90e-103\n",
       "Time:                        14:39:08   Log-Likelihood:                -9617.1\n",
       "No. Observations:                 959   AIC:                         1.925e+04\n",
       "Df Residuals:                     952   BIC:                         1.928e+04\n",
       "Df Model:                           6                                         \n",
       "Covariance Type:            nonrobust                                         \n",
       "====================================================================================\n",
       "                       coef    std err          t      P>|t|      [0.025      0.975]\n",
       "------------------------------------------------------------------------------------\n",
       "const             2.098e+04    674.884     31.085      0.000    1.97e+04    2.23e+04\n",
       "children           534.3608    147.358      3.626      0.000     245.177     823.545\n",
       "sex_female         205.3767    356.166      0.577      0.564    -493.584     904.338\n",
       "smoker_no        -1.394e+04    563.985    -24.720      0.000    -1.5e+04   -1.28e+04\n",
       "region_northeast  1289.8509    511.599      2.521      0.012     285.859    2293.843\n",
       "region_northwest   885.8797    506.157      1.750      0.080    -107.433    1879.193\n",
       "region_southeast    93.0997    506.694      0.184      0.854    -901.267    1087.466\n",
       "==============================================================================\n",
       "Omnibus:                      235.116   Durbin-Watson:                   1.994\n",
       "Prob(Omnibus):                  0.000   Jarque-Bera (JB):              502.871\n",
       "Skew:                           1.364   Prob(JB):                    6.35e-110\n",
       "Kurtosis:                       5.267   Cond. No.                         10.5\n",
       "==============================================================================\n",
       "\n",
       "Notes:\n",
       "[1] Standard Errors assume that the covariance matrix of the errors is correctly specified.\n",
       "\"\"\""
      ]
     },
     "execution_count": 102,
     "metadata": {},
     "output_type": "execute_result"
    }
   ],
   "source": [
    "x_train2,x_test,y_train2,y_test2=train_test_split(x_new,y,test_size=0.20,random_state=10)\n",
    "m1Mode1Def=OLS(y_train2,x_train2) #(Dep_Var,Indep_Vars)#this is model defini.summaryion\n",
    "m1Mode1Bulid=m1Mode1Def.fit()#this is model building .fit ()creates the linear regressions equations \n",
    "m1Mode1Bulid.summary() "
   ]
  },
  {
   "cell_type": "code",
   "execution_count": 104,
   "id": "47b10661-aef4-4e86-80cc-e20a25c57316",
   "metadata": {},
   "outputs": [
    {
     "data": {
      "text/plain": [
       "0.40312380401823755"
      ]
     },
     "execution_count": 104,
     "metadata": {},
     "output_type": "execute_result"
    }
   ],
   "source": [
    "score3=m1Mode1Bulid.rsquared\n",
    "score3"
   ]
  },
  {
   "cell_type": "code",
   "execution_count": 122,
   "id": "3a6913c2-c0c6-485d-9cb9-7119682fb9f8",
   "metadata": {},
   "outputs": [],
   "source": [
    "#Sklearm"
   ]
  },
  {
   "cell_type": "code",
   "execution_count": 123,
   "id": "1c3b9da2-ce73-4393-8135-6412b5e63553",
   "metadata": {},
   "outputs": [],
   "source": [
    "from sklearn.linear_model import Ridge \n",
    "from sklearn.linear_model import Lasso"
   ]
  },
  {
   "cell_type": "code",
   "execution_count": 124,
   "id": "ca7b0162-58fc-4412-9f81-cc633f2aacae",
   "metadata": {},
   "outputs": [],
   "source": [
    "#Ridge regression\n",
    "ridgeReg=Ridge(alpha=0.00001)#, normalize=True)\n",
    "x3=fullRaw2.drop(['charges'],axis=1).copy()\n",
    "y3=fullRaw2['charges'].copy()\n",
    "x_train3,x_test3,y_train3,y_test3=train_test_split(x3,y3,test_size=0.20,random_state=150)\n",
    "\n",
    "ridgeReg.fit(x_train3,y_train3)\n",
    "pred=ridgeReg.predict(x_test3)\n",
    "score4=ridgeReg.score(x_test3,y_test3)"
   ]
  },
  {
   "cell_type": "code",
   "execution_count": null,
   "id": "dd368f1b-7625-4747-8a68-03bf84261d6d",
   "metadata": {},
   "outputs": [],
   "source": []
  },
  {
   "cell_type": "code",
   "execution_count": 125,
   "id": "77204c3d-63c4-48a2-9f24-0228d939e9a2",
   "metadata": {},
   "outputs": [
    {
     "data": {
      "text/plain": [
       "0.6920606871122895"
      ]
     },
     "execution_count": 125,
     "metadata": {},
     "output_type": "execute_result"
    }
   ],
   "source": [
    "score4"
   ]
  },
  {
   "cell_type": "code",
   "execution_count": 126,
   "id": "0583a783-9bd2-4ff6-a740-5c5647d7e541",
   "metadata": {},
   "outputs": [
    {
     "data": {
      "text/plain": [
       "array([  248.53710684,    48.03205304,   402.11601549,   136.4257566 ,\n",
       "        -136.42577047, -7074.51185346,  7074.51168641,   578.94870902,\n",
       "         505.70608891,  -326.2704559 ,  -758.38437249])"
      ]
     },
     "execution_count": 126,
     "metadata": {},
     "output_type": "execute_result"
    }
   ],
   "source": [
    "ridgeReg.coef_"
   ]
  },
  {
   "cell_type": "code",
   "execution_count": 127,
   "id": "418cb45c-3774-403b-9e36-438fe776140b",
   "metadata": {},
   "outputs": [
    {
     "data": {
      "text/plain": [
       "<Axes: title={'center': 'Model Coefficients'}>"
      ]
     },
     "execution_count": 127,
     "metadata": {},
     "output_type": "execute_result"
    },
    {
     "data": {
      "image/png": "[encoded data removed]",
      "text/plain": [
       "<Figure size 640x480 with 1 Axes>"
      ]
     },
     "metadata": {},
     "output_type": "display_data"
    }
   ],
   "source": [
    "predictors=x_train.columns\n",
    "coef=pd.Series(ridgeReg.coef_,predictors).sort_values()\n",
    "coef.plot(kind='bar',title='Model Coefficients')"
   ]
  },
  {
   "cell_type": "code",
   "execution_count": 130,
   "id": "61d4ceba-f4fc-483f-ac6e-a410f3cdec55",
   "metadata": {},
   "outputs": [
    {
     "data": {
      "text/plain": [
       "0.6920606856065209"
      ]
     },
     "execution_count": 130,
     "metadata": {},
     "output_type": "execute_result"
    }
   ],
   "source": [
    "#LASSO REGRESSION\n",
    "LassoReg=Lasso(alpha=0.0001)\n",
    "LassoReg.fit(x_train3,y_train3)\n",
    "pred=LassoReg.predict(x_test3)\n",
    "score5=LassoReg.score(x_test3,y_test3)\n",
    "score5\n"
   ]
  },
  {
   "cell_type": "code",
   "execution_count": 131,
   "id": "e83c3adf-0c6f-40fb-876f-d6c8d59c1d2e",
   "metadata": {},
   "outputs": [
    {
     "data": {
      "text/plain": [
       "array([ 2.48537106e+02,  4.80320495e+01,  4.02115952e+02,  2.72851125e+02,\n",
       "       -9.21134662e-14, -1.41490233e+04,  3.26195042e-11,  9.77086191e+02,\n",
       "        9.03843434e+02,  7.18667251e+01, -3.60246544e+02])"
      ]
     },
     "execution_count": 131,
     "metadata": {},
     "output_type": "execute_result"
    }
   ],
   "source": [
    "LassoReg.coef_"
   ]
  },
  {
   "cell_type": "code",
   "execution_count": 134,
   "id": "c7a7dea1-d35a-499d-9e11-c3430bb07026",
   "metadata": {},
   "outputs": [
    {
     "data": {
      "text/plain": [
       "<Axes: title={'center': 'Model Coefficients'}>"
      ]
     },
     "execution_count": 134,
     "metadata": {},
     "output_type": "execute_result"
    },
    {
     "data": {
      "image/png": "[encoded data removed]",
      "text/plain": [
       "<Figure size 640x480 with 1 Axes>"
      ]
     },
     "metadata": {},
     "output_type": "display_data"
    }
   ],
   "source": [
    "predictors=x_train.columns\n",
    "coef=pd.Series(LassoReg.coef_,predictors).sort_values()\n",
    "coef.plot(kind='bar',title='Model Coefficients')"
   ]
  },
  {
   "cell_type": "code",
   "execution_count": 135,
   "id": "8d11fcee-a3e7-4668-be25-a91938358d34",
   "metadata": {},
   "outputs": [],
   "source": [
    "# THATS SHOW FIG WE ARE CREATE A VISUALIZATION WITH THE HELP OF BAR PLOT"
   ]
  },
  {
   "cell_type": "code",
   "execution_count": 136,
   "id": "41de8db4-7dd0-4bc1-9eee-44ef6fa4cb40",
   "metadata": {},
   "outputs": [
    {
     "name": "stdout",
     "output_type": "stream",
     "text": [
      "all models score is:\n",
      "simple linear regression: 0.6192966378869834\n",
      "After VIF  simple linear regression: 0.40312380401823755\n",
      "ridge regression : 0.6920606871122895\n",
      "Lasso regression: 0.6920606856065209\n"
     ]
    }
   ],
   "source": [
    "print('all models score is:')\n",
    "print('simple linear regression:'   ,score1)\n",
    "print ('After VIF  simple linear regression:',score3)\n",
    "print('ridge regression :',                    score4)\n",
    "print('Lasso regression:',                     score5)"
   ]
  },
  {
   "cell_type": "code",
   "execution_count": 1,
   "id": "cd2b2c04-cfcf-4154-a7f7-d01447ea9283",
   "metadata": {},
   "outputs": [
    {
     "ename": "SyntaxError",
     "evalue": "invalid syntax (507134119.py, line 1)",
     "output_type": "error",
     "traceback": [
      "\u001b[1;36m  Cell \u001b[1;32mIn[1], line 1\u001b[1;36m\u001b[0m\n\u001b[1;33m    conclusion:-  we have cleaned the data using different preprocessing technique and built linear regression models\u001b[0m\n\u001b[1;37m                     ^\u001b[0m\n\u001b[1;31mSyntaxError\u001b[0m\u001b[1;31m:\u001b[0m invalid syntax\n"
     ]
    }
   ],
   "source": [
    "conclusion:-  we have cleaned the data using different preprocessing technique and built linear regression models"
   ]
  },
  {
   "cell_type": "code",
   "execution_count": null,
   "id": "14d50ec6-f745-4864-9424-608154f018c1",
   "metadata": {},
   "outputs": [],
   "source": []
  },
  {
   "cell_type": "code",
   "execution_count": null,
   "id": "7d5589f0-075a-4705-ac14-721240f67d07",
   "metadata": {},
   "outputs": [],
   "source": []
  },
  {
   "cell_type": "code",
   "execution_count": 7,
   "id": "16eb178a-94a1-4fe4-baaa-18ce32acdbc0",
   "metadata": {},
   "outputs": [
    {
     "data": {
      "text/html": [
       "<div>\n",
       "<style scoped>\n",
       "    .dataframe tbody tr th:only-of-type {\n",
       "        vertical-align: middle;\n",
       "    }\n",
       "\n",
       "    .dataframe tbody tr th {\n",
       "        vertical-align: top;\n",
       "    }\n",
       "\n",
       "    .dataframe thead th {\n",
       "        text-align: right;\n",
       "    }\n",
       "</style>\n",
       "<table border=\"1\" class=\"dataframe\">\n",
       "  <thead>\n",
       "    <tr style=\"text-align: right;\">\n",
       "      <th></th>\n",
       "      <th>customer_id</th>\n",
       "      <th>booking_id</th>\n",
       "      <th>from_city</th>\n",
       "      <th>from_country</th>\n",
       "      <th>to_city</th>\n",
       "      <th>to_country</th>\n",
       "      <th>booking_time</th>\n",
       "      <th>device_type_used</th>\n",
       "      <th>INR_Amount</th>\n",
       "      <th>service_name</th>\n",
       "      <th>no_of_passengers</th>\n",
       "      <th>days_to_departure</th>\n",
       "      <th>distance_km</th>\n",
       "    </tr>\n",
       "  </thead>\n",
       "  <tbody>\n",
       "    <tr>\n",
       "      <th>0</th>\n",
       "      <td>customer_259</td>\n",
       "      <td>booking_82</td>\n",
       "      <td>Gurgaon</td>\n",
       "      <td>India</td>\n",
       "      <td>Ahmedabad</td>\n",
       "      <td>India</td>\n",
       "      <td>2020-02-05T16:12:08Z</td>\n",
       "      <td>Desktop</td>\n",
       "      <td>2565.28</td>\n",
       "      <td>MMT</td>\n",
       "      <td>1.0</td>\n",
       "      <td>10.0</td>\n",
       "      <td>747.8</td>\n",
       "    </tr>\n",
       "    <tr>\n",
       "      <th>1</th>\n",
       "      <td>customer_303</td>\n",
       "      <td>booking_156</td>\n",
       "      <td>Delhi</td>\n",
       "      <td>India</td>\n",
       "      <td>Brussels</td>\n",
       "      <td>Belgium</td>\n",
       "      <td>2018-11-21T08:21:47Z</td>\n",
       "      <td>Android</td>\n",
       "      <td>23120.00</td>\n",
       "      <td>YATRA</td>\n",
       "      <td>1.0</td>\n",
       "      <td>1.0</td>\n",
       "      <td>6701.5</td>\n",
       "    </tr>\n",
       "    <tr>\n",
       "      <th>2</th>\n",
       "      <td>customer_203</td>\n",
       "      <td>booking_99</td>\n",
       "      <td>Devanhalli</td>\n",
       "      <td>India</td>\n",
       "      <td>Frankfurt am Main</td>\n",
       "      <td>Germany</td>\n",
       "      <td>2019-12-16T22:54:58Z</td>\n",
       "      <td>Android</td>\n",
       "      <td>25717.60</td>\n",
       "      <td>YATRA</td>\n",
       "      <td>1.0</td>\n",
       "      <td>32.0</td>\n",
       "      <td>7712.0</td>\n",
       "    </tr>\n",
       "    <tr>\n",
       "      <th>3</th>\n",
       "      <td>customer_211</td>\n",
       "      <td>booking_319</td>\n",
       "      <td>Gurgaon</td>\n",
       "      <td>India</td>\n",
       "      <td>Frankfurt am Main</td>\n",
       "      <td>Germany</td>\n",
       "      <td>2021-10-29T12:25:38Z</td>\n",
       "      <td>Desktop</td>\n",
       "      <td>135969.60</td>\n",
       "      <td>GOIBIBO</td>\n",
       "      <td>2.0</td>\n",
       "      <td>69.0</td>\n",
       "      <td>6112.5</td>\n",
       "    </tr>\n",
       "    <tr>\n",
       "      <th>4</th>\n",
       "      <td>customer_287</td>\n",
       "      <td>booking_222</td>\n",
       "      <td>Gurgaon</td>\n",
       "      <td>India</td>\n",
       "      <td>Roissy-en-France</td>\n",
       "      <td>France</td>\n",
       "      <td>2020-08-11T16:09:10Z</td>\n",
       "      <td>Android</td>\n",
       "      <td>31791.20</td>\n",
       "      <td>GOIBIBO</td>\n",
       "      <td>1.0</td>\n",
       "      <td>3.0</td>\n",
       "      <td>6570.4</td>\n",
       "    </tr>\n",
       "    <tr>\n",
       "      <th>...</th>\n",
       "      <td>...</td>\n",
       "      <td>...</td>\n",
       "      <td>...</td>\n",
       "      <td>...</td>\n",
       "      <td>...</td>\n",
       "      <td>...</td>\n",
       "      <td>...</td>\n",
       "      <td>...</td>\n",
       "      <td>...</td>\n",
       "      <td>...</td>\n",
       "      <td>...</td>\n",
       "      <td>...</td>\n",
       "      <td>...</td>\n",
       "    </tr>\n",
       "    <tr>\n",
       "      <th>334</th>\n",
       "      <td>customer_133</td>\n",
       "      <td>booking_238</td>\n",
       "      <td>Gurgaon</td>\n",
       "      <td>India</td>\n",
       "      <td>Rāja Sānsi</td>\n",
       "      <td>India</td>\n",
       "      <td>2020-02-14T14:20:20Z</td>\n",
       "      <td>IOS</td>\n",
       "      <td>2721.60</td>\n",
       "      <td>YATRA</td>\n",
       "      <td>1.0</td>\n",
       "      <td>26.0</td>\n",
       "      <td>421.0</td>\n",
       "    </tr>\n",
       "    <tr>\n",
       "      <th>335</th>\n",
       "      <td>customer_235</td>\n",
       "      <td>booking_37</td>\n",
       "      <td>Gurgaon</td>\n",
       "      <td>India</td>\n",
       "      <td>Bhubaneswar</td>\n",
       "      <td>India</td>\n",
       "      <td>2020-03-21T06:40:56Z</td>\n",
       "      <td>Android</td>\n",
       "      <td>6552.00</td>\n",
       "      <td>GOIBIBO</td>\n",
       "      <td>1.0</td>\n",
       "      <td>0.0</td>\n",
       "      <td>1274.7</td>\n",
       "    </tr>\n",
       "    <tr>\n",
       "      <th>336</th>\n",
       "      <td>customer_62</td>\n",
       "      <td>booking_239</td>\n",
       "      <td>Gurgaon</td>\n",
       "      <td>India</td>\n",
       "      <td>Birmingham</td>\n",
       "      <td>United Kingdom</td>\n",
       "      <td>2020-01-31T20:35:35Z</td>\n",
       "      <td>Desktop</td>\n",
       "      <td>126502.46</td>\n",
       "      <td>GOIBIBO</td>\n",
       "      <td>2.0</td>\n",
       "      <td>109.0</td>\n",
       "      <td>7190.9</td>\n",
       "    </tr>\n",
       "    <tr>\n",
       "      <th>337</th>\n",
       "      <td>customer_5</td>\n",
       "      <td>booking_131</td>\n",
       "      <td>Mumbai</td>\n",
       "      <td>India</td>\n",
       "      <td>Kloten</td>\n",
       "      <td>Switzerland</td>\n",
       "      <td>2018-10-11T14:31:28Z</td>\n",
       "      <td>Desktop</td>\n",
       "      <td>55152.80</td>\n",
       "      <td>YATRA</td>\n",
       "      <td>2.0</td>\n",
       "      <td>22.0</td>\n",
       "      <td>6760.0</td>\n",
       "    </tr>\n",
       "    <tr>\n",
       "      <th>338</th>\n",
       "      <td>customer_241</td>\n",
       "      <td>booking_336</td>\n",
       "      <td>Gurgaon</td>\n",
       "      <td>India</td>\n",
       "      <td>Amsterdam</td>\n",
       "      <td>Netherlands</td>\n",
       "      <td>2022-07-11T18:46:59Z</td>\n",
       "      <td>Desktop</td>\n",
       "      <td>41117.60</td>\n",
       "      <td>GOIBIBO</td>\n",
       "      <td>1.0</td>\n",
       "      <td>20.0</td>\n",
       "      <td>6354.9</td>\n",
       "    </tr>\n",
       "  </tbody>\n",
       "</table>\n",
       "<p>339 rows × 13 columns</p>\n",
       "</div>"
      ],
      "text/plain": [
       "      customer_id   booking_id   from_city from_country            to_city  \\\n",
       "0    customer_259   booking_82     Gurgaon        India          Ahmedabad   \n",
       "1    customer_303  booking_156       Delhi        India           Brussels   \n",
       "2    customer_203   booking_99  Devanhalli        India  Frankfurt am Main   \n",
       "3    customer_211  booking_319     Gurgaon        India  Frankfurt am Main   \n",
       "4    customer_287  booking_222     Gurgaon        India   Roissy-en-France   \n",
       "..            ...          ...         ...          ...                ...   \n",
       "334  customer_133  booking_238     Gurgaon        India         Rāja Sānsi   \n",
       "335  customer_235   booking_37     Gurgaon        India        Bhubaneswar   \n",
       "336   customer_62  booking_239     Gurgaon        India         Birmingham   \n",
       "337    customer_5  booking_131      Mumbai        India             Kloten   \n",
       "338  customer_241  booking_336     Gurgaon        India          Amsterdam   \n",
       "\n",
       "         to_country          booking_time device_type_used  INR_Amount  \\\n",
       "0             India  2020-02-05T16:12:08Z          Desktop     2565.28   \n",
       "1           Belgium  2018-11-21T08:21:47Z          Android    23120.00   \n",
       "2           Germany  2019-12-16T22:54:58Z          Android    25717.60   \n",
       "3           Germany  2021-10-29T12:25:38Z          Desktop   135969.60   \n",
       "4            France  2020-08-11T16:09:10Z          Android    31791.20   \n",
       "..              ...                   ...              ...         ...   \n",
       "334           India  2020-02-14T14:20:20Z              IOS     2721.60   \n",
       "335           India  2020-03-21T06:40:56Z          Android     6552.00   \n",
       "336  United Kingdom  2020-01-31T20:35:35Z          Desktop   126502.46   \n",
       "337     Switzerland  2018-10-11T14:31:28Z          Desktop    55152.80   \n",
       "338     Netherlands  2022-07-11T18:46:59Z          Desktop    41117.60   \n",
       "\n",
       "    service_name  no_of_passengers  days_to_departure  distance_km  \n",
       "0            MMT               1.0               10.0        747.8  \n",
       "1          YATRA               1.0                1.0       6701.5  \n",
       "2          YATRA               1.0               32.0       7712.0  \n",
       "3        GOIBIBO               2.0               69.0       6112.5  \n",
       "4        GOIBIBO               1.0                3.0       6570.4  \n",
       "..           ...               ...                ...          ...  \n",
       "334        YATRA               1.0               26.0        421.0  \n",
       "335      GOIBIBO               1.0                0.0       1274.7  \n",
       "336      GOIBIBO               2.0              109.0       7190.9  \n",
       "337        YATRA               2.0               22.0       6760.0  \n",
       "338      GOIBIBO               1.0               20.0       6354.9  \n",
       "\n",
       "[339 rows x 13 columns]"
      ]
     },
     "execution_count": 7,
     "metadata": {},
     "output_type": "execute_result"
    }
   ],
   "source": [
    "import pandas as pd\n",
    "w=pd.read_csv('Bookings.csv')\n",
    "w"
   ]
  },
  {
   "cell_type": "code",
   "execution_count": 8,
   "id": "8019b443-ce40-4ef7-aaac-334441cf92ad",
   "metadata": {},
   "outputs": [
    {
     "data": {
      "text/html": [
       "<div>\n",
       "<style scoped>\n",
       "    .dataframe tbody tr th:only-of-type {\n",
       "        vertical-align: middle;\n",
       "    }\n",
       "\n",
       "    .dataframe tbody tr th {\n",
       "        vertical-align: top;\n",
       "    }\n",
       "\n",
       "    .dataframe thead th {\n",
       "        text-align: right;\n",
       "    }\n",
       "</style>\n",
       "<table border=\"1\" class=\"dataframe\">\n",
       "  <thead>\n",
       "    <tr style=\"text-align: right;\">\n",
       "      <th></th>\n",
       "      <th>session_id</th>\n",
       "      <th>search_id</th>\n",
       "      <th>search_time</th>\n",
       "      <th>session_starting_time</th>\n",
       "      <th>booking_id</th>\n",
       "    </tr>\n",
       "  </thead>\n",
       "  <tbody>\n",
       "    <tr>\n",
       "      <th>0</th>\n",
       "      <td>session_322</td>\n",
       "      <td>search_784</td>\n",
       "      <td>2020-01-21T21:35:38.910Z</td>\n",
       "      <td>2020-01-21T21:10:12Z</td>\n",
       "      <td>NaN</td>\n",
       "    </tr>\n",
       "    <tr>\n",
       "      <th>1</th>\n",
       "      <td>session_322</td>\n",
       "      <td>search_776</td>\n",
       "      <td>2020-01-21T21:37:37.697Z</td>\n",
       "      <td>2020-01-21T21:10:12Z</td>\n",
       "      <td>NaN</td>\n",
       "    </tr>\n",
       "    <tr>\n",
       "      <th>2</th>\n",
       "      <td>session_322</td>\n",
       "      <td>search_623</td>\n",
       "      <td>2020-01-21T21:36:11.392Z</td>\n",
       "      <td>2020-01-21T21:10:12Z</td>\n",
       "      <td>NaN</td>\n",
       "    </tr>\n",
       "    <tr>\n",
       "      <th>3</th>\n",
       "      <td>session_322</td>\n",
       "      <td>search_270</td>\n",
       "      <td>2020-01-21T21:16:07.685Z</td>\n",
       "      <td>2020-01-21T21:10:12Z</td>\n",
       "      <td>NaN</td>\n",
       "    </tr>\n",
       "    <tr>\n",
       "      <th>4</th>\n",
       "      <td>session_322</td>\n",
       "      <td>search_905</td>\n",
       "      <td>2020-01-21T21:34:55.673Z</td>\n",
       "      <td>2020-01-21T21:10:12Z</td>\n",
       "      <td>NaN</td>\n",
       "    </tr>\n",
       "    <tr>\n",
       "      <th>...</th>\n",
       "      <td>...</td>\n",
       "      <td>...</td>\n",
       "      <td>...</td>\n",
       "      <td>...</td>\n",
       "      <td>...</td>\n",
       "    </tr>\n",
       "    <tr>\n",
       "      <th>1492</th>\n",
       "      <td>session_150</td>\n",
       "      <td>search_156</td>\n",
       "      <td>2018-12-18T22:59:43.764Z</td>\n",
       "      <td>2018-12-18T22:45:56Z</td>\n",
       "      <td>booking_120</td>\n",
       "    </tr>\n",
       "    <tr>\n",
       "      <th>1493</th>\n",
       "      <td>session_120</td>\n",
       "      <td>search_1096</td>\n",
       "      <td>2021-12-23T17:29:37Z</td>\n",
       "      <td>2021-12-23T17:29:33.217Z</td>\n",
       "      <td>NaN</td>\n",
       "    </tr>\n",
       "    <tr>\n",
       "      <th>1494</th>\n",
       "      <td>session_120</td>\n",
       "      <td>search_962</td>\n",
       "      <td>2021-12-23T17:34:39Z</td>\n",
       "      <td>2021-12-23T17:29:33.217Z</td>\n",
       "      <td>NaN</td>\n",
       "    </tr>\n",
       "    <tr>\n",
       "      <th>1495</th>\n",
       "      <td>session_150</td>\n",
       "      <td>search_1306</td>\n",
       "      <td>2018-12-18T22:52:37.654Z</td>\n",
       "      <td>2018-12-18T22:45:56Z</td>\n",
       "      <td>NaN</td>\n",
       "    </tr>\n",
       "    <tr>\n",
       "      <th>1496</th>\n",
       "      <td>session_120</td>\n",
       "      <td>search_1180</td>\n",
       "      <td>2021-12-23T17:34:52Z</td>\n",
       "      <td>2021-12-23T17:29:33.217Z</td>\n",
       "      <td>booking_155</td>\n",
       "    </tr>\n",
       "  </tbody>\n",
       "</table>\n",
       "<p>1497 rows × 5 columns</p>\n",
       "</div>"
      ],
      "text/plain": [
       "       session_id    search_id               search_time  \\\n",
       "0     session_322   search_784  2020-01-21T21:35:38.910Z   \n",
       "1     session_322   search_776  2020-01-21T21:37:37.697Z   \n",
       "2     session_322   search_623  2020-01-21T21:36:11.392Z   \n",
       "3     session_322   search_270  2020-01-21T21:16:07.685Z   \n",
       "4     session_322   search_905  2020-01-21T21:34:55.673Z   \n",
       "...           ...          ...                       ...   \n",
       "1492  session_150   search_156  2018-12-18T22:59:43.764Z   \n",
       "1493  session_120  search_1096      2021-12-23T17:29:37Z   \n",
       "1494  session_120   search_962      2021-12-23T17:34:39Z   \n",
       "1495  session_150  search_1306  2018-12-18T22:52:37.654Z   \n",
       "1496  session_120  search_1180      2021-12-23T17:34:52Z   \n",
       "\n",
       "         session_starting_time   booking_id  \n",
       "0         2020-01-21T21:10:12Z          NaN  \n",
       "1         2020-01-21T21:10:12Z          NaN  \n",
       "2         2020-01-21T21:10:12Z          NaN  \n",
       "3         2020-01-21T21:10:12Z          NaN  \n",
       "4         2020-01-21T21:10:12Z          NaN  \n",
       "...                        ...          ...  \n",
       "1492      2018-12-18T22:45:56Z  booking_120  \n",
       "1493  2021-12-23T17:29:33.217Z          NaN  \n",
       "1494  2021-12-23T17:29:33.217Z          NaN  \n",
       "1495      2018-12-18T22:45:56Z          NaN  \n",
       "1496  2021-12-23T17:29:33.217Z  booking_155  \n",
       "\n",
       "[1497 rows x 5 columns]"
      ]
     },
     "execution_count": 8,
     "metadata": {},
     "output_type": "execute_result"
    }
   ],
   "source": [
    "e= pd.read_csv(\"Sessions.csv\")\n",
    "e"
   ]
  },
  {
   "cell_type": "code",
   "execution_count": 9,
   "id": "2584584d-f63f-40ed-8faf-4f432e44908b",
   "metadata": {},
   "outputs": [
    {
     "data": {
      "text/html": [
       "<div>\n",
       "<style scoped>\n",
       "    .dataframe tbody tr th:only-of-type {\n",
       "        vertical-align: middle;\n",
       "    }\n",
       "\n",
       "    .dataframe tbody tr th {\n",
       "        vertical-align: top;\n",
       "    }\n",
       "\n",
       "    .dataframe thead th {\n",
       "        text-align: right;\n",
       "    }\n",
       "</style>\n",
       "<table border=\"1\" class=\"dataframe\">\n",
       "  <thead>\n",
       "    <tr style=\"text-align: right;\">\n",
       "      <th></th>\n",
       "      <th>session_id</th>\n",
       "      <th>search_id</th>\n",
       "      <th>search_time</th>\n",
       "      <th>session_starting_time</th>\n",
       "      <th>booking_id</th>\n",
       "    </tr>\n",
       "  </thead>\n",
       "  <tbody>\n",
       "    <tr>\n",
       "      <th>0</th>\n",
       "      <td>session_322</td>\n",
       "      <td>search_784</td>\n",
       "      <td>2020-01-21T21:35:38.910Z</td>\n",
       "      <td>2020-01-21T21:10:12Z</td>\n",
       "      <td>NaN</td>\n",
       "    </tr>\n",
       "    <tr>\n",
       "      <th>1</th>\n",
       "      <td>session_322</td>\n",
       "      <td>search_776</td>\n",
       "      <td>2020-01-21T21:37:37.697Z</td>\n",
       "      <td>2020-01-21T21:10:12Z</td>\n",
       "      <td>NaN</td>\n",
       "    </tr>\n",
       "    <tr>\n",
       "      <th>2</th>\n",
       "      <td>session_322</td>\n",
       "      <td>search_623</td>\n",
       "      <td>2020-01-21T21:36:11.392Z</td>\n",
       "      <td>2020-01-21T21:10:12Z</td>\n",
       "      <td>NaN</td>\n",
       "    </tr>\n",
       "    <tr>\n",
       "      <th>3</th>\n",
       "      <td>session_322</td>\n",
       "      <td>search_270</td>\n",
       "      <td>2020-01-21T21:16:07.685Z</td>\n",
       "      <td>2020-01-21T21:10:12Z</td>\n",
       "      <td>NaN</td>\n",
       "    </tr>\n",
       "    <tr>\n",
       "      <th>4</th>\n",
       "      <td>session_322</td>\n",
       "      <td>search_905</td>\n",
       "      <td>2020-01-21T21:34:55.673Z</td>\n",
       "      <td>2020-01-21T21:10:12Z</td>\n",
       "      <td>NaN</td>\n",
       "    </tr>\n",
       "    <tr>\n",
       "      <th>...</th>\n",
       "      <td>...</td>\n",
       "      <td>...</td>\n",
       "      <td>...</td>\n",
       "      <td>...</td>\n",
       "      <td>...</td>\n",
       "    </tr>\n",
       "    <tr>\n",
       "      <th>1492</th>\n",
       "      <td>session_150</td>\n",
       "      <td>search_156</td>\n",
       "      <td>2018-12-18T22:59:43.764Z</td>\n",
       "      <td>2018-12-18T22:45:56Z</td>\n",
       "      <td>booking_120</td>\n",
       "    </tr>\n",
       "    <tr>\n",
       "      <th>1493</th>\n",
       "      <td>session_120</td>\n",
       "      <td>search_1096</td>\n",
       "      <td>2021-12-23T17:29:37Z</td>\n",
       "      <td>2021-12-23T17:29:33.217Z</td>\n",
       "      <td>NaN</td>\n",
       "    </tr>\n",
       "    <tr>\n",
       "      <th>1494</th>\n",
       "      <td>session_120</td>\n",
       "      <td>search_962</td>\n",
       "      <td>2021-12-23T17:34:39Z</td>\n",
       "      <td>2021-12-23T17:29:33.217Z</td>\n",
       "      <td>NaN</td>\n",
       "    </tr>\n",
       "    <tr>\n",
       "      <th>1495</th>\n",
       "      <td>session_150</td>\n",
       "      <td>search_1306</td>\n",
       "      <td>2018-12-18T22:52:37.654Z</td>\n",
       "      <td>2018-12-18T22:45:56Z</td>\n",
       "      <td>NaN</td>\n",
       "    </tr>\n",
       "    <tr>\n",
       "      <th>1496</th>\n",
       "      <td>session_120</td>\n",
       "      <td>search_1180</td>\n",
       "      <td>2021-12-23T17:34:52Z</td>\n",
       "      <td>2021-12-23T17:29:33.217Z</td>\n",
       "      <td>booking_155</td>\n",
       "    </tr>\n",
       "  </tbody>\n",
       "</table>\n",
       "<p>1497 rows × 5 columns</p>\n",
       "</div>"
      ],
      "text/plain": [
       "       session_id    search_id               search_time  \\\n",
       "0     session_322   search_784  2020-01-21T21:35:38.910Z   \n",
       "1     session_322   search_776  2020-01-21T21:37:37.697Z   \n",
       "2     session_322   search_623  2020-01-21T21:36:11.392Z   \n",
       "3     session_322   search_270  2020-01-21T21:16:07.685Z   \n",
       "4     session_322   search_905  2020-01-21T21:34:55.673Z   \n",
       "...           ...          ...                       ...   \n",
       "1492  session_150   search_156  2018-12-18T22:59:43.764Z   \n",
       "1493  session_120  search_1096      2021-12-23T17:29:37Z   \n",
       "1494  session_120   search_962      2021-12-23T17:34:39Z   \n",
       "1495  session_150  search_1306  2018-12-18T22:52:37.654Z   \n",
       "1496  session_120  search_1180      2021-12-23T17:34:52Z   \n",
       "\n",
       "         session_starting_time   booking_id  \n",
       "0         2020-01-21T21:10:12Z          NaN  \n",
       "1         2020-01-21T21:10:12Z          NaN  \n",
       "2         2020-01-21T21:10:12Z          NaN  \n",
       "3         2020-01-21T21:10:12Z          NaN  \n",
       "4         2020-01-21T21:10:12Z          NaN  \n",
       "...                        ...          ...  \n",
       "1492      2018-12-18T22:45:56Z  booking_120  \n",
       "1493  2021-12-23T17:29:33.217Z          NaN  \n",
       "1494  2021-12-23T17:29:33.217Z          NaN  \n",
       "1495      2018-12-18T22:45:56Z          NaN  \n",
       "1496  2021-12-23T17:29:33.217Z  booking_155  \n",
       "\n",
       "[1497 rows x 5 columns]"
      ]
     },
     "execution_count": 9,
     "metadata": {},
     "output_type": "execute_result"
    }
   ],
   "source": [
    "e= pd.read_csv(\"Sessions.csv\")\n",
    "e"
   ]
  },
  {
   "cell_type": "code",
   "execution_count": 10,
   "id": "2428c8c0-b0cf-4fef-af8c-96da18af8202",
   "metadata": {},
   "outputs": [
    {
     "data": {
      "text/html": [
       "<div>\n",
       "<style scoped>\n",
       "    .dataframe tbody tr th:only-of-type {\n",
       "        vertical-align: middle;\n",
       "    }\n",
       "\n",
       "    .dataframe tbody tr th {\n",
       "        vertical-align: top;\n",
       "    }\n",
       "\n",
       "    .dataframe thead th {\n",
       "        text-align: right;\n",
       "    }\n",
       "</style>\n",
       "<table border=\"1\" class=\"dataframe\">\n",
       "  <thead>\n",
       "    <tr style=\"text-align: right;\">\n",
       "      <th></th>\n",
       "      <th>session_id</th>\n",
       "      <th>search_id</th>\n",
       "      <th>search_time</th>\n",
       "      <th>session_starting_time</th>\n",
       "      <th>booking_id</th>\n",
       "    </tr>\n",
       "  </thead>\n",
       "  <tbody>\n",
       "    <tr>\n",
       "      <th>0</th>\n",
       "      <td>session_322</td>\n",
       "      <td>search_784</td>\n",
       "      <td>2020-01-21T21:35:38.910Z</td>\n",
       "      <td>2020-01-21T21:10:12Z</td>\n",
       "      <td>NaN</td>\n",
       "    </tr>\n",
       "    <tr>\n",
       "      <th>1</th>\n",
       "      <td>session_322</td>\n",
       "      <td>search_776</td>\n",
       "      <td>2020-01-21T21:37:37.697Z</td>\n",
       "      <td>2020-01-21T21:10:12Z</td>\n",
       "      <td>NaN</td>\n",
       "    </tr>\n",
       "    <tr>\n",
       "      <th>2</th>\n",
       "      <td>session_322</td>\n",
       "      <td>search_623</td>\n",
       "      <td>2020-01-21T21:36:11.392Z</td>\n",
       "      <td>2020-01-21T21:10:12Z</td>\n",
       "      <td>NaN</td>\n",
       "    </tr>\n",
       "    <tr>\n",
       "      <th>3</th>\n",
       "      <td>session_322</td>\n",
       "      <td>search_270</td>\n",
       "      <td>2020-01-21T21:16:07.685Z</td>\n",
       "      <td>2020-01-21T21:10:12Z</td>\n",
       "      <td>NaN</td>\n",
       "    </tr>\n",
       "    <tr>\n",
       "      <th>4</th>\n",
       "      <td>session_322</td>\n",
       "      <td>search_905</td>\n",
       "      <td>2020-01-21T21:34:55.673Z</td>\n",
       "      <td>2020-01-21T21:10:12Z</td>\n",
       "      <td>NaN</td>\n",
       "    </tr>\n",
       "    <tr>\n",
       "      <th>...</th>\n",
       "      <td>...</td>\n",
       "      <td>...</td>\n",
       "      <td>...</td>\n",
       "      <td>...</td>\n",
       "      <td>...</td>\n",
       "    </tr>\n",
       "    <tr>\n",
       "      <th>1492</th>\n",
       "      <td>session_150</td>\n",
       "      <td>search_156</td>\n",
       "      <td>2018-12-18T22:59:43.764Z</td>\n",
       "      <td>2018-12-18T22:45:56Z</td>\n",
       "      <td>booking_120</td>\n",
       "    </tr>\n",
       "    <tr>\n",
       "      <th>1493</th>\n",
       "      <td>session_120</td>\n",
       "      <td>search_1096</td>\n",
       "      <td>2021-12-23T17:29:37Z</td>\n",
       "      <td>2021-12-23T17:29:33.217Z</td>\n",
       "      <td>NaN</td>\n",
       "    </tr>\n",
       "    <tr>\n",
       "      <th>1494</th>\n",
       "      <td>session_120</td>\n",
       "      <td>search_962</td>\n",
       "      <td>2021-12-23T17:34:39Z</td>\n",
       "      <td>2021-12-23T17:29:33.217Z</td>\n",
       "      <td>NaN</td>\n",
       "    </tr>\n",
       "    <tr>\n",
       "      <th>1495</th>\n",
       "      <td>session_150</td>\n",
       "      <td>search_1306</td>\n",
       "      <td>2018-12-18T22:52:37.654Z</td>\n",
       "      <td>2018-12-18T22:45:56Z</td>\n",
       "      <td>NaN</td>\n",
       "    </tr>\n",
       "    <tr>\n",
       "      <th>1496</th>\n",
       "      <td>session_120</td>\n",
       "      <td>search_1180</td>\n",
       "      <td>2021-12-23T17:34:52Z</td>\n",
       "      <td>2021-12-23T17:29:33.217Z</td>\n",
       "      <td>booking_155</td>\n",
       "    </tr>\n",
       "  </tbody>\n",
       "</table>\n",
       "<p>1497 rows × 5 columns</p>\n",
       "</div>"
      ],
      "text/plain": [
       "       session_id    search_id               search_time  \\\n",
       "0     session_322   search_784  2020-01-21T21:35:38.910Z   \n",
       "1     session_322   search_776  2020-01-21T21:37:37.697Z   \n",
       "2     session_322   search_623  2020-01-21T21:36:11.392Z   \n",
       "3     session_322   search_270  2020-01-21T21:16:07.685Z   \n",
       "4     session_322   search_905  2020-01-21T21:34:55.673Z   \n",
       "...           ...          ...                       ...   \n",
       "1492  session_150   search_156  2018-12-18T22:59:43.764Z   \n",
       "1493  session_120  search_1096      2021-12-23T17:29:37Z   \n",
       "1494  session_120   search_962      2021-12-23T17:34:39Z   \n",
       "1495  session_150  search_1306  2018-12-18T22:52:37.654Z   \n",
       "1496  session_120  search_1180      2021-12-23T17:34:52Z   \n",
       "\n",
       "         session_starting_time   booking_id  \n",
       "0         2020-01-21T21:10:12Z          NaN  \n",
       "1         2020-01-21T21:10:12Z          NaN  \n",
       "2         2020-01-21T21:10:12Z          NaN  \n",
       "3         2020-01-21T21:10:12Z          NaN  \n",
       "4         2020-01-21T21:10:12Z          NaN  \n",
       "...                        ...          ...  \n",
       "1492      2018-12-18T22:45:56Z  booking_120  \n",
       "1493  2021-12-23T17:29:33.217Z          NaN  \n",
       "1494  2021-12-23T17:29:33.217Z          NaN  \n",
       "1495      2018-12-18T22:45:56Z          NaN  \n",
       "1496  2021-12-23T17:29:33.217Z  booking_155  \n",
       "\n",
       "[1497 rows x 5 columns]"
      ]
     },
     "execution_count": 10,
     "metadata": {},
     "output_type": "execute_result"
    }
   ],
   "source": [
    "e= pd.read_csv(\"Sessions.csv\")\n",
    "e"
   ]
  },
  {
   "cell_type": "code",
   "execution_count": 11,
   "id": "d5efc642-54b0-443f-b059-adb1541abc93",
   "metadata": {},
   "outputs": [
    {
     "data": {
      "text/html": [
       "<div>\n",
       "<style scoped>\n",
       "    .dataframe tbody tr th:only-of-type {\n",
       "        vertical-align: middle;\n",
       "    }\n",
       "\n",
       "    .dataframe tbody tr th {\n",
       "        vertical-align: top;\n",
       "    }\n",
       "\n",
       "    .dataframe thead th {\n",
       "        text-align: right;\n",
       "    }\n",
       "</style>\n",
       "<table border=\"1\" class=\"dataframe\">\n",
       "  <thead>\n",
       "    <tr style=\"text-align: right;\">\n",
       "      <th></th>\n",
       "      <th>session_id</th>\n",
       "      <th>search_id</th>\n",
       "      <th>search_time</th>\n",
       "      <th>session_starting_time</th>\n",
       "      <th>booking_id</th>\n",
       "    </tr>\n",
       "  </thead>\n",
       "  <tbody>\n",
       "    <tr>\n",
       "      <th>0</th>\n",
       "      <td>session_322</td>\n",
       "      <td>search_784</td>\n",
       "      <td>2020-01-21T21:35:38.910Z</td>\n",
       "      <td>2020-01-21T21:10:12Z</td>\n",
       "      <td>NaN</td>\n",
       "    </tr>\n",
       "    <tr>\n",
       "      <th>1</th>\n",
       "      <td>session_322</td>\n",
       "      <td>search_776</td>\n",
       "      <td>2020-01-21T21:37:37.697Z</td>\n",
       "      <td>2020-01-21T21:10:12Z</td>\n",
       "      <td>NaN</td>\n",
       "    </tr>\n",
       "    <tr>\n",
       "      <th>2</th>\n",
       "      <td>session_322</td>\n",
       "      <td>search_623</td>\n",
       "      <td>2020-01-21T21:36:11.392Z</td>\n",
       "      <td>2020-01-21T21:10:12Z</td>\n",
       "      <td>NaN</td>\n",
       "    </tr>\n",
       "    <tr>\n",
       "      <th>3</th>\n",
       "      <td>session_322</td>\n",
       "      <td>search_270</td>\n",
       "      <td>2020-01-21T21:16:07.685Z</td>\n",
       "      <td>2020-01-21T21:10:12Z</td>\n",
       "      <td>NaN</td>\n",
       "    </tr>\n",
       "    <tr>\n",
       "      <th>4</th>\n",
       "      <td>session_322</td>\n",
       "      <td>search_905</td>\n",
       "      <td>2020-01-21T21:34:55.673Z</td>\n",
       "      <td>2020-01-21T21:10:12Z</td>\n",
       "      <td>NaN</td>\n",
       "    </tr>\n",
       "    <tr>\n",
       "      <th>...</th>\n",
       "      <td>...</td>\n",
       "      <td>...</td>\n",
       "      <td>...</td>\n",
       "      <td>...</td>\n",
       "      <td>...</td>\n",
       "    </tr>\n",
       "    <tr>\n",
       "      <th>1492</th>\n",
       "      <td>session_150</td>\n",
       "      <td>search_156</td>\n",
       "      <td>2018-12-18T22:59:43.764Z</td>\n",
       "      <td>2018-12-18T22:45:56Z</td>\n",
       "      <td>booking_120</td>\n",
       "    </tr>\n",
       "    <tr>\n",
       "      <th>1493</th>\n",
       "      <td>session_120</td>\n",
       "      <td>search_1096</td>\n",
       "      <td>2021-12-23T17:29:37Z</td>\n",
       "      <td>2021-12-23T17:29:33.217Z</td>\n",
       "      <td>NaN</td>\n",
       "    </tr>\n",
       "    <tr>\n",
       "      <th>1494</th>\n",
       "      <td>session_120</td>\n",
       "      <td>search_962</td>\n",
       "      <td>2021-12-23T17:34:39Z</td>\n",
       "      <td>2021-12-23T17:29:33.217Z</td>\n",
       "      <td>NaN</td>\n",
       "    </tr>\n",
       "    <tr>\n",
       "      <th>1495</th>\n",
       "      <td>session_150</td>\n",
       "      <td>search_1306</td>\n",
       "      <td>2018-12-18T22:52:37.654Z</td>\n",
       "      <td>2018-12-18T22:45:56Z</td>\n",
       "      <td>NaN</td>\n",
       "    </tr>\n",
       "    <tr>\n",
       "      <th>1496</th>\n",
       "      <td>session_120</td>\n",
       "      <td>search_1180</td>\n",
       "      <td>2021-12-23T17:34:52Z</td>\n",
       "      <td>2021-12-23T17:29:33.217Z</td>\n",
       "      <td>booking_155</td>\n",
       "    </tr>\n",
       "  </tbody>\n",
       "</table>\n",
       "<p>1497 rows × 5 columns</p>\n",
       "</div>"
      ],
      "text/plain": [
       "       session_id    search_id               search_time  \\\n",
       "0     session_322   search_784  2020-01-21T21:35:38.910Z   \n",
       "1     session_322   search_776  2020-01-21T21:37:37.697Z   \n",
       "2     session_322   search_623  2020-01-21T21:36:11.392Z   \n",
       "3     session_322   search_270  2020-01-21T21:16:07.685Z   \n",
       "4     session_322   search_905  2020-01-21T21:34:55.673Z   \n",
       "...           ...          ...                       ...   \n",
       "1492  session_150   search_156  2018-12-18T22:59:43.764Z   \n",
       "1493  session_120  search_1096      2021-12-23T17:29:37Z   \n",
       "1494  session_120   search_962      2021-12-23T17:34:39Z   \n",
       "1495  session_150  search_1306  2018-12-18T22:52:37.654Z   \n",
       "1496  session_120  search_1180      2021-12-23T17:34:52Z   \n",
       "\n",
       "         session_starting_time   booking_id  \n",
       "0         2020-01-21T21:10:12Z          NaN  \n",
       "1         2020-01-21T21:10:12Z          NaN  \n",
       "2         2020-01-21T21:10:12Z          NaN  \n",
       "3         2020-01-21T21:10:12Z          NaN  \n",
       "4         2020-01-21T21:10:12Z          NaN  \n",
       "...                        ...          ...  \n",
       "1492      2018-12-18T22:45:56Z  booking_120  \n",
       "1493  2021-12-23T17:29:33.217Z          NaN  \n",
       "1494  2021-12-23T17:29:33.217Z          NaN  \n",
       "1495      2018-12-18T22:45:56Z          NaN  \n",
       "1496  2021-12-23T17:29:33.217Z  booking_155  \n",
       "\n",
       "[1497 rows x 5 columns]"
      ]
     },
     "execution_count": 11,
     "metadata": {},
     "output_type": "execute_result"
    }
   ],
   "source": [
    "e= pd.read_csv(\"Sessions.csv\")\n",
    "e"
   ]
  },
  {
   "cell_type": "code",
   "execution_count": 12,
   "id": "dd67dcdd-64be-4ac2-af0f-a27a4868d59f",
   "metadata": {},
   "outputs": [
    {
     "data": {
      "text/plain": [
       "<bound method NDFrame.describe of       customer_id   booking_id   from_city from_country            to_city  \\\n",
       "0    customer_259   booking_82     Gurgaon        India          Ahmedabad   \n",
       "1    customer_303  booking_156       Delhi        India           Brussels   \n",
       "2    customer_203   booking_99  Devanhalli        India  Frankfurt am Main   \n",
       "3    customer_211  booking_319     Gurgaon        India  Frankfurt am Main   \n",
       "4    customer_287  booking_222     Gurgaon        India   Roissy-en-France   \n",
       "..            ...          ...         ...          ...                ...   \n",
       "334  customer_133  booking_238     Gurgaon        India         Rāja Sānsi   \n",
       "335  customer_235   booking_37     Gurgaon        India        Bhubaneswar   \n",
       "336   customer_62  booking_239     Gurgaon        India         Birmingham   \n",
       "337    customer_5  booking_131      Mumbai        India             Kloten   \n",
       "338  customer_241  booking_336     Gurgaon        India          Amsterdam   \n",
       "\n",
       "         to_country          booking_time device_type_used  INR_Amount  \\\n",
       "0             India  2020-02-05T16:12:08Z          Desktop     2565.28   \n",
       "1           Belgium  2018-11-21T08:21:47Z          Android    23120.00   \n",
       "2           Germany  2019-12-16T22:54:58Z          Android    25717.60   \n",
       "3           Germany  2021-10-29T12:25:38Z          Desktop   135969.60   \n",
       "4            France  2020-08-11T16:09:10Z          Android    31791.20   \n",
       "..              ...                   ...              ...         ...   \n",
       "334           India  2020-02-14T14:20:20Z              IOS     2721.60   \n",
       "335           India  2020-03-21T06:40:56Z          Android     6552.00   \n",
       "336  United Kingdom  2020-01-31T20:35:35Z          Desktop   126502.46   \n",
       "337     Switzerland  2018-10-11T14:31:28Z          Desktop    55152.80   \n",
       "338     Netherlands  2022-07-11T18:46:59Z          Desktop    41117.60   \n",
       "\n",
       "    service_name  no_of_passengers  days_to_departure  distance_km  \n",
       "0            MMT               1.0               10.0        747.8  \n",
       "1          YATRA               1.0                1.0       6701.5  \n",
       "2          YATRA               1.0               32.0       7712.0  \n",
       "3        GOIBIBO               2.0               69.0       6112.5  \n",
       "4        GOIBIBO               1.0                3.0       6570.4  \n",
       "..           ...               ...                ...          ...  \n",
       "334        YATRA               1.0               26.0        421.0  \n",
       "335      GOIBIBO               1.0                0.0       1274.7  \n",
       "336      GOIBIBO               2.0              109.0       7190.9  \n",
       "337        YATRA               2.0               22.0       6760.0  \n",
       "338      GOIBIBO               1.0               20.0       6354.9  \n",
       "\n",
       "[339 rows x 13 columns]>"
      ]
     },
     "execution_count": 12,
     "metadata": {},
     "output_type": "execute_result"
    }
   ],
   "source": [
    "w.describe"
   ]
  },
  {
   "cell_type": "code",
   "execution_count": 13,
   "id": "a7021378-d03b-428c-b8ff-4bd087e0f643",
   "metadata": {},
   "outputs": [
    {
     "data": {
      "text/plain": [
       "<bound method NDFrame.describe of        session_id    search_id               search_time  \\\n",
       "0     session_322   search_784  2020-01-21T21:35:38.910Z   \n",
       "1     session_322   search_776  2020-01-21T21:37:37.697Z   \n",
       "2     session_322   search_623  2020-01-21T21:36:11.392Z   \n",
       "3     session_322   search_270  2020-01-21T21:16:07.685Z   \n",
       "4     session_322   search_905  2020-01-21T21:34:55.673Z   \n",
       "...           ...          ...                       ...   \n",
       "1492  session_150   search_156  2018-12-18T22:59:43.764Z   \n",
       "1493  session_120  search_1096      2021-12-23T17:29:37Z   \n",
       "1494  session_120   search_962      2021-12-23T17:34:39Z   \n",
       "1495  session_150  search_1306  2018-12-18T22:52:37.654Z   \n",
       "1496  session_120  search_1180      2021-12-23T17:34:52Z   \n",
       "\n",
       "         session_starting_time   booking_id  \n",
       "0         2020-01-21T21:10:12Z          NaN  \n",
       "1         2020-01-21T21:10:12Z          NaN  \n",
       "2         2020-01-21T21:10:12Z          NaN  \n",
       "3         2020-01-21T21:10:12Z          NaN  \n",
       "4         2020-01-21T21:10:12Z          NaN  \n",
       "...                        ...          ...  \n",
       "1492      2018-12-18T22:45:56Z  booking_120  \n",
       "1493  2021-12-23T17:29:33.217Z          NaN  \n",
       "1494  2021-12-23T17:29:33.217Z          NaN  \n",
       "1495      2018-12-18T22:45:56Z          NaN  \n",
       "1496  2021-12-23T17:29:33.217Z  booking_155  \n",
       "\n",
       "[1497 rows x 5 columns]>"
      ]
     },
     "execution_count": 13,
     "metadata": {},
     "output_type": "execute_result"
    }
   ],
   "source": [
    "e.describe"
   ]
  },
  {
   "cell_type": "code",
   "execution_count": 14,
   "id": "27a208e4-7585-493e-856c-49cabaf37bf3",
   "metadata": {},
   "outputs": [
    {
     "data": {
      "text/plain": [
       "<bound method Series.groupby of 0       booking_82\n",
       "1      booking_156\n",
       "2       booking_99\n",
       "3      booking_319\n",
       "4      booking_222\n",
       "          ...     \n",
       "334    booking_238\n",
       "335     booking_37\n",
       "336    booking_239\n",
       "337    booking_131\n",
       "338    booking_336\n",
       "Name: booking_id, Length: 339, dtype: object>"
      ]
     },
     "execution_count": 14,
     "metadata": {},
     "output_type": "execute_result"
    }
   ],
   "source": [
    "\n",
    "w.booking_id.groupby"
   ]
  },
  {
   "cell_type": "code",
   "execution_count": 15,
   "id": "6164a23c-c303-40c5-ba8e-44ebfcea8bfa",
   "metadata": {},
   "outputs": [
    {
     "data": {
      "text/plain": [
       "<bound method Series.groupby of 0       booking_82\n",
       "1      booking_156\n",
       "2       booking_99\n",
       "3      booking_319\n",
       "4      booking_222\n",
       "          ...     \n",
       "334    booking_238\n",
       "335     booking_37\n",
       "336    booking_239\n",
       "337    booking_131\n",
       "338    booking_336\n",
       "Name: booking_id, Length: 339, dtype: object>"
      ]
     },
     "execution_count": 15,
     "metadata": {},
     "output_type": "execute_result"
    }
   ],
   "source": [
    "\n",
    "w.booking_id.groupby"
   ]
  },
  {
   "cell_type": "code",
   "execution_count": 16,
   "id": "371006b5-4667-4628-97c9-fb1f927a6b26",
   "metadata": {},
   "outputs": [
    {
     "name": "stdout",
     "output_type": "stream",
     "text": [
      "      session_id  search_id  search_time  session_starting_time  booking_id\n",
      "0          False      False        False                  False       False\n",
      "1          False      False        False                  False       False\n",
      "2          False      False        False                  False       False\n",
      "3          False      False        False                  False       False\n",
      "4          False      False        False                  False       False\n",
      "...          ...        ...          ...                    ...         ...\n",
      "1492       False      False        False                  False       False\n",
      "1493       False      False        False                  False       False\n",
      "1494       False      False        False                  False       False\n",
      "1495       False      False        False                  False       False\n",
      "1496       False      False        False                  False       False\n",
      "\n",
      "[1497 rows x 5 columns]\n"
     ]
    }
   ],
   "source": [
    "e.session_id\n",
    "print (e==1)"
   ]
  },
  {
   "cell_type": "code",
   "execution_count": 17,
   "id": "89f31db9-fa51-46e4-98e6-652e39a0b52a",
   "metadata": {},
   "outputs": [],
   "source": [
    "#How many sessions have more than one booking"
   ]
  },
  {
   "cell_type": "code",
   "execution_count": 18,
   "id": "688e5b01-3ebe-41da-a589-42dd382cf014",
   "metadata": {},
   "outputs": [
    {
     "name": "stdout",
     "output_type": "stream",
     "text": [
      "Number of distinct bookings: 338\n",
      "Number of distinct sessions: 331\n",
      "Number of distinct searches: 1360\n"
     ]
    }
   ],
   "source": [
    "distinct_bookings = e['booking_id'].nunique()\n",
    "\n",
    "# Number of distinct sessions\n",
    "distinct_sessions = e['session_id'].nunique()\n",
    "\n",
    "# Number of distinct searches\n",
    "distinct_searches = e['search_id'].nunique()\n",
    "\n",
    "# Output results\n",
    "print(f\"Number of distinct bookings: {distinct_bookings}\")\n",
    "print(f\"Number of distinct sessions: {distinct_sessions}\")\n",
    "print(f\"Number of distinct searches: {distinct_searches}\")"
   ]
  },
  {
   "cell_type": "code",
   "execution_count": 19,
   "id": "1ad40202-5fc2-47dc-bd90-42e0233c5f6e",
   "metadata": {},
   "outputs": [
    {
     "data": {
      "text/html": [
       "<div>\n",
       "<style scoped>\n",
       "    .dataframe tbody tr th:only-of-type {\n",
       "        vertical-align: middle;\n",
       "    }\n",
       "\n",
       "    .dataframe tbody tr th {\n",
       "        vertical-align: top;\n",
       "    }\n",
       "\n",
       "    .dataframe thead th {\n",
       "        text-align: right;\n",
       "    }\n",
       "</style>\n",
       "<table border=\"1\" class=\"dataframe\">\n",
       "  <thead>\n",
       "    <tr style=\"text-align: right;\">\n",
       "      <th></th>\n",
       "      <th>session_id</th>\n",
       "      <th>search_id</th>\n",
       "      <th>search_time</th>\n",
       "      <th>session_starting_time</th>\n",
       "      <th>booking_id</th>\n",
       "    </tr>\n",
       "  </thead>\n",
       "  <tbody>\n",
       "    <tr>\n",
       "      <th>0</th>\n",
       "      <td>False</td>\n",
       "      <td>False</td>\n",
       "      <td>False</td>\n",
       "      <td>False</td>\n",
       "      <td>True</td>\n",
       "    </tr>\n",
       "    <tr>\n",
       "      <th>1</th>\n",
       "      <td>False</td>\n",
       "      <td>False</td>\n",
       "      <td>False</td>\n",
       "      <td>False</td>\n",
       "      <td>True</td>\n",
       "    </tr>\n",
       "    <tr>\n",
       "      <th>2</th>\n",
       "      <td>False</td>\n",
       "      <td>False</td>\n",
       "      <td>False</td>\n",
       "      <td>False</td>\n",
       "      <td>True</td>\n",
       "    </tr>\n",
       "    <tr>\n",
       "      <th>3</th>\n",
       "      <td>False</td>\n",
       "      <td>False</td>\n",
       "      <td>False</td>\n",
       "      <td>False</td>\n",
       "      <td>True</td>\n",
       "    </tr>\n",
       "    <tr>\n",
       "      <th>4</th>\n",
       "      <td>False</td>\n",
       "      <td>False</td>\n",
       "      <td>False</td>\n",
       "      <td>False</td>\n",
       "      <td>True</td>\n",
       "    </tr>\n",
       "    <tr>\n",
       "      <th>...</th>\n",
       "      <td>...</td>\n",
       "      <td>...</td>\n",
       "      <td>...</td>\n",
       "      <td>...</td>\n",
       "      <td>...</td>\n",
       "    </tr>\n",
       "    <tr>\n",
       "      <th>1492</th>\n",
       "      <td>False</td>\n",
       "      <td>False</td>\n",
       "      <td>False</td>\n",
       "      <td>False</td>\n",
       "      <td>False</td>\n",
       "    </tr>\n",
       "    <tr>\n",
       "      <th>1493</th>\n",
       "      <td>False</td>\n",
       "      <td>False</td>\n",
       "      <td>False</td>\n",
       "      <td>False</td>\n",
       "      <td>True</td>\n",
       "    </tr>\n",
       "    <tr>\n",
       "      <th>1494</th>\n",
       "      <td>False</td>\n",
       "      <td>False</td>\n",
       "      <td>False</td>\n",
       "      <td>False</td>\n",
       "      <td>True</td>\n",
       "    </tr>\n",
       "    <tr>\n",
       "      <th>1495</th>\n",
       "      <td>False</td>\n",
       "      <td>False</td>\n",
       "      <td>False</td>\n",
       "      <td>False</td>\n",
       "      <td>True</td>\n",
       "    </tr>\n",
       "    <tr>\n",
       "      <th>1496</th>\n",
       "      <td>False</td>\n",
       "      <td>False</td>\n",
       "      <td>False</td>\n",
       "      <td>False</td>\n",
       "      <td>False</td>\n",
       "    </tr>\n",
       "  </tbody>\n",
       "</table>\n",
       "<p>1497 rows × 5 columns</p>\n",
       "</div>"
      ],
      "text/plain": [
       "      session_id  search_id  search_time  session_starting_time  booking_id\n",
       "0          False      False        False                  False        True\n",
       "1          False      False        False                  False        True\n",
       "2          False      False        False                  False        True\n",
       "3          False      False        False                  False        True\n",
       "4          False      False        False                  False        True\n",
       "...          ...        ...          ...                    ...         ...\n",
       "1492       False      False        False                  False       False\n",
       "1493       False      False        False                  False        True\n",
       "1494       False      False        False                  False        True\n",
       "1495       False      False        False                  False        True\n",
       "1496       False      False        False                  False       False\n",
       "\n",
       "[1497 rows x 5 columns]"
      ]
     },
     "execution_count": 19,
     "metadata": {},
     "output_type": "execute_result"
    }
   ],
   "source": [
    "e.isnull()\n",
    "\n"
   ]
  },
  {
   "cell_type": "code",
   "execution_count": null,
   "id": "4c560f79-4a95-4c89-801c-b2c08d5e4956",
   "metadata": {},
   "outputs": [],
   "source": [
    "\n"
   ]
  },
  {
   "cell_type": "code",
   "execution_count": null,
   "id": "52408ed5-f96c-41a6-928c-b3dabe8b5985",
   "metadata": {},
   "outputs": [],
   "source": []
  },
  {
   "cell_type": "code",
   "execution_count": null,
   "id": "5b74a1be-49b6-48b6-adca-06b44eb0d1f0",
   "metadata": {},
   "outputs": [],
   "source": []
  },
  {
   "cell_type": "code",
   "execution_count": null,
   "id": "e9eb9ff3-f07c-4ca3-9de5-45a42f5f4a9f",
   "metadata": {},
   "outputs": [],
   "source": []
  }
 ],
 "metadata": {
  "kernelspec": {
   "display_name": "Python 3 (ipykernel)",
   "language": "python",
   "name": "python3"
  },
  "language_info": {
   "codemirror_mode": {
    "name": "ipython",
    "version": 3
   },
   "file_extension": ".py",
   "mimetype": "text/x-python",
   "name": "python",
   "nbconvert_exporter": "python",
   "pygments_lexer": "ipython3",
   "version": "3.10.9"
  }
 },
 "nbformat": 4,
 "nbformat_minor": 5
}
